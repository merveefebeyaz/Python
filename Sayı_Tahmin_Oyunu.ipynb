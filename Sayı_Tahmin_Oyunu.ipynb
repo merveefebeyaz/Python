{
  "nbformat": 4,
  "nbformat_minor": 0,
  "metadata": {
    "colab": {
      "provenance": [],
      "authorship_tag": "ABX9TyORwsaQ9KQ5b0Qw61L/T1Xo",
      "include_colab_link": true
    },
    "kernelspec": {
      "name": "python3",
      "display_name": "Python 3"
    },
    "language_info": {
      "name": "python"
    }
  },
  "cells": [
    {
      "cell_type": "markdown",
      "metadata": {
        "id": "view-in-github",
        "colab_type": "text"
      },
      "source": [
        "<a href=\"https://colab.research.google.com/github/merveefebeyaz/Python/blob/master/Say%C4%B1_Tahmin_Oyunu.ipynb\" target=\"_parent\"><img src=\"https://colab.research.google.com/assets/colab-badge.svg\" alt=\"Open In Colab\"/></a>"
      ]
    },
    {
      "cell_type": "markdown",
      "source": [
        "Ödev: Basit Bir Oyun Simülasyonu\n",
        "\n",
        "Görev:\n",
        "Küçük bir sayı tahmin oyunu yapacaksın. Bilgisayar rastgele bir sayı üretecek ve kullanıcı bu sayıyı tahmin etmeye çalışacak. Kullanıcı doğru tahmini yapana kadar döngü devam edecek.\n",
        "\n",
        "Adımlar:\n",
        "\n",
        "1. Rastgele Sayı Üret:  \n",
        "   - 1 ile 100 arasında rastgele bir sayı üretmek için `random` kütüphanesini kullan.\n",
        "  \n",
        "2. Kullanıcıdan Girdi Al:  \n",
        "   - Kullanıcıdan 1 ile 100 arasında bir sayı tahmin etmesini iste.\n",
        "  \n",
        "3. Koşulları Kullan:  \n",
        "   - Eğer kullanıcı tahmini doğruysa, oyunu bitir ve kullanıcıyı tebrik et.\n",
        "   - Eğer kullanıcı tahmini düşükse, \"Daha büyük bir sayı deneyin.\" mesajı ver.\n",
        "   - Eğer kullanıcı tahmini yüksekse, \"Daha küçük bir sayı deneyin.\" mesajı ver.\n",
        "  \n",
        "4. Döngü:  \n",
        "   - Kullanıcı doğru tahmini yapana kadar oyunu tekrarla.\n",
        "\n",
        "5. Oyunu Geliştir:  \n",
        "   - Kullanıcıya kaç deneme yaptığını söyle.\n",
        "   - Oyunu birden fazla oynanabilir yap ve her oyunun sonunda kullanıcıya tekrar oynamak isteyip istemediğini sor."
      ],
      "metadata": {
        "id": "3b685WH8GwFb"
      }
    },
    {
      "cell_type": "code",
      "source": [
        "import random"
      ],
      "metadata": {
        "id": "fsEkBD_-GyY0"
      },
      "execution_count": 27,
      "outputs": []
    },
    {
      "cell_type": "code",
      "source": [
        "def tahmin_oyunu():\n",
        "  print(\"Tahmin oyununa hoş geldiniz!\")\n",
        "  print(\"Bu oyunda bilgisayar 1-100 arasında bir sayı tahmininde bulunur.\")\n",
        "  print(\"Oyuncu doğru tahmini yapana kadar oyun devam eder.\")\n",
        "  print(\"Bilgisayar oyuncunun tahminleri için ipucu verir.\")\n",
        "  print(\"Tahmin küçükse, daha büyük bir sayı tahmin edilmelidir.\")\n",
        "  print(\"Tahmin büyükse, daha küçük bir sayı tahmin edilmelidir.\")\n",
        "\n",
        "  bilgisayar=random.randint(1,100)\n",
        "  tahmin_sayısı=0\n",
        "\n",
        "  while True:\n",
        "    oyunkurucu=int(input(\"\\nTahmin için 1-100 arasında bir sayı girin: \"))\n",
        "    tahmin_sayısı +=1\n",
        "\n",
        "    if oyunkurucu <1 or oyunkurucu> 100:\n",
        "      print(\"\\nGeçersiz sayı girildi. Lütfen aralıktaki sayılar ile tekrar deneyin.\")\n",
        "    elif bilgisayar==oyunkurucu:\n",
        "      print(f\"\\nDoğru tahmin ettiniz! {tahmin_sayısı} denemede bulup oyunu kazandınız!\")\n",
        "      break\n",
        "    elif bilgisayar < oyunkurucu:\n",
        "      print(\"\\nDaha küçük bir sayı denemelisiniz!\")\n",
        "    elif bilgisayar > oyunkurucu:\n",
        "      print(\"\\nDaha büyük bir sayı denemelisiniz!\")\n",
        "\n",
        "  tekrar = input(\"\\nTekrar oynamak ister misin? Evet/Hayır: \")\n",
        "  if tekrar == \"Evet\":\n",
        "    print(\"\\nYeni oyun başlatılıyor...\\n\")\n",
        "    tahmin_oyunu()\n",
        "  else:\n",
        "    print(\"\\nOyun sonlandırılıyor...\")\n",
        "    return\n",
        "\n",
        "\n",
        "tahmin_oyunu()"
      ],
      "metadata": {
        "colab": {
          "base_uri": "https://localhost:8080/"
        },
        "id": "00LjQJL_G0oy",
        "outputId": "63d1d131-aaad-42fb-db28-091353b592f9"
      },
      "execution_count": 41,
      "outputs": [
        {
          "output_type": "stream",
          "name": "stdout",
          "text": [
            "Tahmin oyununa hoş geldiniz!\n",
            "Bu oyunda bilgisayar 1-100 arasında bir sayı tahmininde bulunur.\n",
            "Oyuncu doğru tahmini yapana kadar oyun devam eder.\n",
            "Bilgisayar oyuncunun tahminleri için ipucu verir.\n",
            "Tahmin küçükse, daha büyük bir sayı tahmin edilmelidir.\n",
            "Tahmin büyükse, daha küçük bir sayı tahmin edilmelidir.\n",
            "\n",
            "Tahmin için 1-100 arasında bir sayı girin: 35\n",
            "\n",
            "Daha küçük bir sayı denemelisiniz!\n",
            "\n",
            "Tahmin için 1-100 arasında bir sayı girin: 555\n",
            "\n",
            "Geçersiz sayı girildi. Lütfen aralıktaki sayılar ile tekrar deneyin.\n",
            "\n",
            "Tahmin için 1-100 arasında bir sayı girin: 25\n",
            "\n",
            "Daha küçük bir sayı denemelisiniz!\n",
            "\n",
            "Tahmin için 1-100 arasında bir sayı girin: 15\n",
            "\n",
            "Daha küçük bir sayı denemelisiniz!\n",
            "\n",
            "Tahmin için 1-100 arasında bir sayı girin: 10\n",
            "\n",
            "Daha büyük bir sayı denemelisiniz!\n",
            "\n",
            "Tahmin için 1-100 arasında bir sayı girin: 11\n",
            "\n",
            "Doğru tahmin ettiniz! 6 denemede bulup oyunu kazandınız!\n",
            "\n",
            "Tekrar oynamak ister misin? Evet/Hayır: Evet\n",
            "\n",
            "Yeni oyun başlatılıyor...\n",
            "\n",
            "Tahmin oyununa hoş geldiniz!\n",
            "Bu oyunda bilgisayar 1-100 arasında bir sayı tahmininde bulunur.\n",
            "Oyuncu doğru tahmini yapana kadar oyun devam eder.\n",
            "Bilgisayar oyuncunun tahminleri için ipucu verir.\n",
            "Tahmin küçükse, daha büyük bir sayı tahmin edilmelidir.\n",
            "Tahmin büyükse, daha küçük bir sayı tahmin edilmelidir.\n",
            "\n",
            "Tahmin için 1-100 arasında bir sayı girin: 555\n",
            "\n",
            "Geçersiz sayı girildi. Lütfen aralıktaki sayılar ile tekrar deneyin.\n",
            "\n",
            "Tahmin için 1-100 arasında bir sayı girin: 50\n",
            "\n",
            "Daha büyük bir sayı denemelisiniz!\n",
            "\n",
            "Tahmin için 1-100 arasında bir sayı girin: 90\n",
            "\n",
            "Daha küçük bir sayı denemelisiniz!\n",
            "\n",
            "Tahmin için 1-100 arasında bir sayı girin: 60\n",
            "\n",
            "Daha büyük bir sayı denemelisiniz!\n",
            "\n",
            "Tahmin için 1-100 arasında bir sayı girin: 70\n",
            "\n",
            "Daha küçük bir sayı denemelisiniz!\n",
            "\n",
            "Tahmin için 1-100 arasında bir sayı girin: 69\n",
            "\n",
            "Daha küçük bir sayı denemelisiniz!\n",
            "\n",
            "Tahmin için 1-100 arasında bir sayı girin: 67\n",
            "\n",
            "Daha küçük bir sayı denemelisiniz!\n",
            "\n",
            "Tahmin için 1-100 arasında bir sayı girin: 68\n",
            "\n",
            "Daha küçük bir sayı denemelisiniz!\n",
            "\n",
            "Tahmin için 1-100 arasında bir sayı girin: 66\n",
            "\n",
            "Daha küçük bir sayı denemelisiniz!\n",
            "\n",
            "Tahmin için 1-100 arasında bir sayı girin: 65\n",
            "\n",
            "Daha küçük bir sayı denemelisiniz!\n",
            "\n",
            "Tahmin için 1-100 arasında bir sayı girin: 64\n",
            "\n",
            "Daha küçük bir sayı denemelisiniz!\n",
            "\n",
            "Tahmin için 1-100 arasında bir sayı girin: 63\n",
            "\n",
            "Doğru tahmin ettiniz! 12 denemede bulup oyunu kazandınız!\n",
            "\n",
            "Tekrar oynamak ister misin? Evet/Hayır: Hayır\n",
            "\n",
            "Oyun sonlandırılıyor...\n"
          ]
        }
      ]
    }
  ]
}