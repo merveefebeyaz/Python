{
  "nbformat": 4,
  "nbformat_minor": 0,
  "metadata": {
    "colab": {
      "provenance": [],
      "authorship_tag": "ABX9TyOTYX7ReUKbpUbMkfT84zht"
    },
    "kernelspec": {
      "name": "python3",
      "display_name": "Python 3"
    },
    "language_info": {
      "name": "python"
    }
  },
  "cells": [
    {
      "cell_type": "markdown",
      "source": [
        "***Keywords and Identifiers***\n",
        "* Bilgisayarlar doğrucudur. Bir kod doğru yazılmazsa bizim kastettiğimizi değil söylediğimizi yaparlar. Bu yüzden bilgisayar kodu bilgisayarların okuyup anlayabileceği kadar açık olmalıdır.\n",
        "* Anahtar kelimeler programlama dilinin görevleri için ayrılmış kelimelerdir. Önceden oluşturulmuş işlevler veya kısayollar olarak düşünebiliriz. Her seferinde bu görevler için kod yazmak yerine anahtar kelimeleri kullanırız.\n",
        "* Pythonda kullanılan sürüme bağlı olarak yaklaşık 30 anahtar kelime vardır. Bu anahtar kelimelere göz atmak için help() kullanırız.\n"
      ],
      "metadata": {
        "id": "_6j5jx8XbQbS"
      }
    },
    {
      "cell_type": "code",
      "execution_count": null,
      "metadata": {
        "id": "POLK52iga8Fv"
      },
      "outputs": [],
      "source": [
        "help()"
      ]
    },
    {
      "cell_type": "markdown",
      "source": [
        "- Bu anahtar kelimeler: true, false, return, if, for gibi kelimelerdir.\n",
        "- If anahtar kelimesi Python’da bir koşulun takip edeceğini ve bu koşul doğruysa belirli bir kodu yürütmesi gerektiğini söyler.\n",
        "- Örn: En sevdiğimiz sayı 12 olsun. 15’ten küçük olup olmadığını kontrol ederken yazdığımız programda 12 15’ten küçük olduğu için “if koşulu True’dur ve “en sevdiğim sayı 15’ten küçüktür” yazdırır.\n"
      ],
      "metadata": {
        "id": "bXyYIfBEbrC9"
      }
    },
    {
      "cell_type": "code",
      "source": [
        "fav_number=12\n",
        "if fav_number <15:\n",
        "  print(\"My favourite number is smaller than 15\")\n"
      ],
      "metadata": {
        "colab": {
          "base_uri": "https://localhost:8080/"
        },
        "id": "4-FXJ44obZk6",
        "outputId": "6059a734-4a93-4d2b-8c76-33061c216f85"
      },
      "execution_count": null,
      "outputs": [
        {
          "output_type": "stream",
          "name": "stdout",
          "text": [
            "My favourite number is smaller than 15\n"
          ]
        }
      ]
    },
    {
      "cell_type": "markdown",
      "source": [
        "Anahtar kelimeler adlandırma yapmak için kullanılmazlar. Bunun yerine Tanımlayıcılar kullanılır. Tanımlayıcılar programlamada çok önemlidir. Tanımlayıcı Python’da temel nesneleri temsil etmek için kullanıcı tarafından tanımlanan bir addır. Bunlar:\n",
        "* Değişkenler\n",
        "* İşlevler\n",
        "* Sınıflar\n",
        "* Modüller\tolabilirler.\n"
      ],
      "metadata": {
        "id": "bN-pMp1kc6WG"
      }
    },
    {
      "cell_type": "markdown",
      "source": [
        "Tanımlayıcılar bu nesnelere benzersiz kimlikler verir ve bu da bize erişim sağlar. Ancak adlar oluşturulurken temel kurallar vardır:\n",
        "- Python büyük/küçük harfe duyarlıdır. Ahmet ile ahmet farklı tanımlayıcılardır.\n",
        "- Tanımlayıcılar alt çizgi başlayabilir fakat bir sayıyla başlayamaz.\n",
        "- Anahtar sözcükler tanımlayıcı olarak kullanılamaz. İf, true, false için adlandırma yapılamaz.\n",
        "- ünlem, kare simgesi #, yüzde işareti % gibi semboller kullanılamaz.\n",
        "\n",
        "Python’da ad oluşturulurken bir stil vardır bu stile “yılan durumu/snake case” denir. Kelimeler veya sayılar arasındaki her boşluk bir alt çizgiyle değiştirilir ve her kelimenin ilk harfi küçük harfle yazılır.\n",
        "- get_user_email\n"
      ],
      "metadata": {
        "id": "UTv0WTFVd_o1"
      }
    },
    {
      "cell_type": "markdown",
      "source": [
        "***Statements and Comments***\n",
        "- Statements/İfadeler: Python’nın anlayabileceği ve uygulayabileceği bir komut veya talimattır.\n",
        "\n",
        "- Örneğin bir değişken atayalım. Tek yapılması gereken\n",
        "bir tanımlayıcı = atanmak istenen değer. Bu bir ifadedir. Değişkenin değerini görmek için de print kelimesiyle ifadeyi yazdırabiliriz."
      ],
      "metadata": {
        "id": "dmDgWM0AeQBw"
      }
    },
    {
      "cell_type": "code",
      "source": [
        "pi=3.14\n",
        "print(pi)"
      ],
      "metadata": {
        "colab": {
          "base_uri": "https://localhost:8080/"
        },
        "id": "2zykpkpGcBVH",
        "outputId": "354d5e4b-1faf-4662-deb6-014566ef3cbf"
      },
      "execution_count": null,
      "outputs": [
        {
          "output_type": "stream",
          "name": "stdout",
          "text": [
            "3.14\n"
          ]
        }
      ]
    },
    {
      "cell_type": "markdown",
      "source": [
        "- While döngüleri veya if ifadeleri gibi daha karmaşık ve uzun ifadeler vardır.\n",
        "- Birbirine bağlı birden fazla ifade gerektiren görevler veya komutlar içinse bloklama kullanırız. Kod bloğunu tanımlamak için birçok dil süslü parantez {} kullanılır ancak Python girinti kullanır. Girinti(tab) boşluk kullanılarak oluşturulur. Girinti miktarı kullanıcıya bağlıdır. Genelde 4 boşluğa eşittir. 4 boşluk ile başlandıysa 4 boşluk ile bitirilir.\n",
        "\n",
        "- Comments/Yorumlar: Yazılı programın ne yaptığını açıklamak için kullanılır. #hashtag kullanılarak comment satırına başlanır.\n"
      ],
      "metadata": {
        "id": "Sr-q0ggOepSr"
      }
    },
    {
      "cell_type": "code",
      "source": [
        "#comment satırı"
      ],
      "metadata": {
        "id": "x5mvI0Ofetdx"
      },
      "execution_count": null,
      "outputs": []
    },
    {
      "cell_type": "markdown",
      "source": [
        "- Ayrıca, Python tarafından yürütülmemesi gereken birden fazla yorum satırına sahip olmak istediğiniz durumlar da vardır.\n",
        "- Örneğin, belirli işlevlerin amacını tanımlarken. Her kodlama satırının önüne bir karma işareti koymak yerine üçlü tırnak işareti “””detay””” kullanılabilir. Bu, Python'ın hiçbirini yürütmeden, birkaç satıra yorum yazmanıza olanak tanır, tıpkı bu örnekte olduğu gibi:\n"
      ],
      "metadata": {
        "id": "G2McabVrex3i"
      }
    },
    {
      "cell_type": "code",
      "source": [
        "\"\"\"\n",
        "This is a long comment that can make the code harder\n",
        "to read on a small screen, so it needs to be broken into\n",
        "multiple lines using triple-quotes instead of putting a\n",
        "hash symbol in front of each line\n",
        "\"\"\""
      ],
      "metadata": {
        "colab": {
          "base_uri": "https://localhost:8080/",
          "height": 72
        },
        "id": "u7Lvg8XDe6Zh",
        "outputId": "5720c0e0-b42e-4439-d198-b3f23b26fabd"
      },
      "execution_count": null,
      "outputs": [
        {
          "output_type": "execute_result",
          "data": {
            "text/plain": [
              "'\\nThis is a long comment that can make the code harder\\nto read on a small screen, so it needs to be broken into\\nmultiple lines using triple-quotes instead of putting a \\nhash symbol in front of each line\\n'"
            ],
            "application/vnd.google.colaboratory.intrinsic+json": {
              "type": "string"
            }
          },
          "metadata": {},
          "execution_count": 5
        }
      ]
    },
    {
      "cell_type": "markdown",
      "source": [
        "*** Variables, Data Types, Type Conversion***\n",
        "-Bir değişken farklı veri türlerinin değerlerini tutan bir kalıbın adıdır.\n",
        "\n",
        "Örn: Bir adı tutan değişken ve bir yaşı tutan başka bir değişken tanımlamak istiyoruz. Değişkenlere değer atamak için = ifadesi kullanırız.\n"
      ],
      "metadata": {
        "id": "ptbtjQZwe_f_"
      }
    },
    {
      "cell_type": "code",
      "source": [
        "name='Deniz'\n",
        "name"
      ],
      "metadata": {
        "colab": {
          "base_uri": "https://localhost:8080/",
          "height": 36
        },
        "id": "gl58fWMUfD3e",
        "outputId": "8ca09f49-f483-42af-a7ba-d30ddda5d1b5"
      },
      "execution_count": null,
      "outputs": [
        {
          "output_type": "execute_result",
          "data": {
            "text/plain": [
              "'Deniz'"
            ],
            "application/vnd.google.colaboratory.intrinsic+json": {
              "type": "string"
            }
          },
          "metadata": {},
          "execution_count": 10
        }
      ]
    },
    {
      "cell_type": "code",
      "source": [
        "age=25\n",
        "age"
      ],
      "metadata": {
        "colab": {
          "base_uri": "https://localhost:8080/"
        },
        "id": "clBfb0d7fVYK",
        "outputId": "23a6f19a-1a6f-4d43-9be1-3683cd4e592e"
      },
      "execution_count": null,
      "outputs": [
        {
          "output_type": "execute_result",
          "data": {
            "text/plain": [
              "25"
            ]
          },
          "metadata": {},
          "execution_count": 11
        }
      ]
    },
    {
      "cell_type": "code",
      "source": [
        "print(name)\n",
        "print(age)"
      ],
      "metadata": {
        "colab": {
          "base_uri": "https://localhost:8080/"
        },
        "id": "4FjxoOR7ffeK",
        "outputId": "fbfa2097-8664-40a7-ecc1-053c0bdb1c22"
      },
      "execution_count": null,
      "outputs": [
        {
          "output_type": "stream",
          "name": "stdout",
          "text": [
            "Deniz\n",
            "25\n"
          ]
        }
      ]
    },
    {
      "cell_type": "markdown",
      "source": [
        "Python’daki her değerin bir veri türü de vardır. 3 ana veri türü vardır:\n",
        "1. Sayılar(numbers)\n",
        "2. Metin(text)\n",
        "3. Listeler(list)\n",
        "\n",
        "Değişkenlerin veri türünü type() fonksiyonu kullanarak yazdırabiliriz:\n",
        "- Ad değişkeni için “str”\n",
        "- Yaş değişkeni için “int” türünü elde ediyoruz.\n"
      ],
      "metadata": {
        "id": "DEvnoVslfpQN"
      }
    },
    {
      "cell_type": "code",
      "source": [
        "print(type(name))\n",
        "print(type(age))"
      ],
      "metadata": {
        "colab": {
          "base_uri": "https://localhost:8080/"
        },
        "id": "AD_PHknqf63m",
        "outputId": "58eeca87-2f28-4483-ae53-c055c1b85425"
      },
      "execution_count": null,
      "outputs": [
        {
          "output_type": "stream",
          "name": "stdout",
          "text": [
            "<class 'str'>\n",
            "<class 'int'>\n"
          ]
        }
      ]
    },
    {
      "cell_type": "markdown",
      "source": [
        "- Strings: Python’da adlandırıldığı gibi metinler ve dizeler bulunuyor. Bir dize harfler ve boşluklar içeren bir karakter dizisidir.\n",
        "Python’da dize veri türünü kullanmak için tek veya çift tırnak işaretleri kullanılır.\n"
      ],
      "metadata": {
        "id": "N611mVAqgQDB"
      }
    },
    {
      "cell_type": "code",
      "source": [
        "name='Deniz'\n",
        "type(name)"
      ],
      "metadata": {
        "colab": {
          "base_uri": "https://localhost:8080/"
        },
        "id": "goG-8Nr4gU4b",
        "outputId": "5da30d2a-f57a-499c-83c9-b533d616abb3"
      },
      "execution_count": null,
      "outputs": [
        {
          "output_type": "execute_result",
          "data": {
            "text/plain": [
              "str"
            ]
          },
          "metadata": {},
          "execution_count": 14
        }
      ]
    },
    {
      "cell_type": "markdown",
      "source": [
        "- Numbers: En yaygın kullanılan veri türüdür. Temel olarak 3 sayı veri türü vardır:\n",
        "1. Tam Sayılar(Integers): Pozitif ve negatif tam sayılar.\n",
        "2. Ondalıklı Sayılar(Float): 1.25, 1.5 gibi\n",
        "3. Fourier dönüşümü(Complex numbers)\n",
        "\n",
        "\n",
        "\n",
        "\n",
        "- Lists(Listeler): Listeler aynı veya farklı veri türlerinin birden fazla ögesini bir arada tutabilir.\n",
        "= işaretinden sonra [] köşeli parantez kullanılması yeterlidir.\n"
      ],
      "metadata": {
        "id": "6bZo1HCRg_sj"
      }
    },
    {
      "cell_type": "code",
      "source": [
        "store_items = ['Apple', 1.49, 'Banana', 1, 'Milk', 2.99, 'Cheese', 4.49]\n",
        "print(store_items, type(store_items))"
      ],
      "metadata": {
        "colab": {
          "base_uri": "https://localhost:8080/"
        },
        "id": "ODvOxsiXhPgg",
        "outputId": "9971caf5-e993-481d-c905-830ff49b042a"
      },
      "execution_count": null,
      "outputs": [
        {
          "output_type": "stream",
          "name": "stdout",
          "text": [
            "['Apple', 1.49, 'Banana', 1, 'Milk', 2.99, 'Cheese', 4.49] <class 'list'>\n"
          ]
        }
      ]
    },
    {
      "cell_type": "markdown",
      "source": [
        "- *####Slicing List(Listelerde Ayırma):* Listenizdeki tek tek öğelere erişmek istiyorsanız, bunu dizin numaralarına başvurarak yapabilirsiniz. Bu, liste dilimleme olarak da bilinen bir tekniktir.\n",
        "- Listenin bir öğesini yazdırmak istiyorsak, listenin adının hemen yanına bir çift köşeli parantez açabilir ve istediğimiz öğenin dizin numarasını ekleyebiliriz. Burada, dizini 2 olan \"Banana\" öğesini yazdırmak istersek:\n",
        "\n"
      ],
      "metadata": {
        "id": "-pb9jbWVhrht"
      }
    },
    {
      "cell_type": "code",
      "source": [
        "print(store_items[2]) #Python’da dizinler 0,1,2,… şeklinde gider bu yüzden 2.dizin Banana oldu."
      ],
      "metadata": {
        "colab": {
          "base_uri": "https://localhost:8080/"
        },
        "id": "UT9wdjhJh1Df",
        "outputId": "c7d87548-ca35-4127-bde0-0fa05c6d3cb8"
      },
      "execution_count": null,
      "outputs": [
        {
          "output_type": "stream",
          "name": "stdout",
          "text": [
            "Banana\n"
          ]
        }
      ]
    },
    {
      "cell_type": "markdown",
      "source": [
        "- Listede bir dizin aralığı da seçebiliriz. Dizin numaralarını iki nokta üst üste ile belirtebiliriz. Dahil etmek istediğiniz ilk öğenin dizinini, ardından iki nokta üst üste ve ardından bitiş dizinini yazmanız yeterlidir.\n",
        "store_items listesinin belirli bir aralığını seçmek istiyorsunuz, örneğin yalnızca ilk 4 öğe olan meyveler:\n"
      ],
      "metadata": {
        "id": "PYNnlYamh_Iw"
      }
    },
    {
      "cell_type": "code",
      "source": [
        "print(store_items[0:4])"
      ],
      "metadata": {
        "colab": {
          "base_uri": "https://localhost:8080/"
        },
        "id": "PsLr19BGiENV",
        "outputId": "c8664162-4b0a-48dc-dbfd-d95cee499852"
      },
      "execution_count": null,
      "outputs": [
        {
          "output_type": "stream",
          "name": "stdout",
          "text": [
            "['Apple', 1.49, 'Banana', 1]\n"
          ]
        }
      ]
    },
    {
      "cell_type": "code",
      "source": [
        "print(store_items[2:]) #2.dizin ve sonrasındakileri getir demek."
      ],
      "metadata": {
        "colab": {
          "base_uri": "https://localhost:8080/"
        },
        "id": "k90AJ0vxiL5i",
        "outputId": "8347e053-85e2-4e5b-868c-116a4b6a16f4"
      },
      "execution_count": null,
      "outputs": [
        {
          "output_type": "stream",
          "name": "stdout",
          "text": [
            "['Banana', 1, 'Milk', 2.99, 'Cheese', 4.49]\n"
          ]
        }
      ]
    },
    {
      "cell_type": "code",
      "source": [
        "print(store_items[:2]) #2.dizin öncesindekiler getir demek."
      ],
      "metadata": {
        "colab": {
          "base_uri": "https://localhost:8080/"
        },
        "id": "WUC5MUC1iRGN",
        "outputId": "ca25ea17-0d6b-4c98-a349-ea630d40a8cb"
      },
      "execution_count": null,
      "outputs": [
        {
          "output_type": "stream",
          "name": "stdout",
          "text": [
            "['Apple', 1.49]\n"
          ]
        }
      ]
    },
    {
      "cell_type": "markdown",
      "source": [
        "- Listeler değiştirilebilir veri türleridir. Bu, listeyi oluşturduktan sonra bile listedeki öğeleri değiştirebileceğiniz, ekleyebileceğiniz veya kaldırabileceğiniz anlamına gelir. Bunun için dizinleri de kullanırız.\n",
        "- Bir girişi değiştirmek için, değiştirmek istediğiniz öğenin dizinini köşeli parantez içinde liste adını yazmanız gerekir. Ardından eşittir işareti ve bunun yerine istediğiniz yeni öğeyi yazmanız gerekir.\n"
      ],
      "metadata": {
        "id": "W8hv1q_kiVUk"
      }
    },
    {
      "cell_type": "code",
      "source": [
        "store_items[2] = 'Chocolate' #muz yerine çikolatanın listede olmasını istedik.\n",
        "print(store_items)"
      ],
      "metadata": {
        "colab": {
          "base_uri": "https://localhost:8080/"
        },
        "id": "0CJSF1tUicmb",
        "outputId": "54585307-a2f3-4f52-860b-2efd95e4d0f1"
      },
      "execution_count": null,
      "outputs": [
        {
          "output_type": "stream",
          "name": "stdout",
          "text": [
            "['Apple', 1.49, 'Chocolate', 1, 'Milk', 2.99, 'Cheese', 4.49]\n"
          ]
        }
      ]
    },
    {
      "cell_type": "markdown",
      "source": [
        "- *####Data Type Conversion(Veri Türü Değiştirme):* Bir veri türünün değerini diğerine dönüştürmeye tür dönüştürme denir.\n",
        "- Python, bir değişkene değer atadığınızda değişkenin veri türünü otomatik olarak belirler. Örneğin, tırnak işaretleri eklerseniz, Python bunun bir dize olduğunu anlar. Ve bir ondalık sayı yazarsanız, bunu bir float olarak tanır.\n"
      ],
      "metadata": {
        "id": "mcG4S2dni9JY"
      }
    },
    {
      "cell_type": "code",
      "source": [
        "age=25\n",
        "print(age, type(age))"
      ],
      "metadata": {
        "colab": {
          "base_uri": "https://localhost:8080/"
        },
        "id": "GBRa-zHBjEHJ",
        "outputId": "0c3a9ec5-8614-4847-d9ff-f0509d62bbb6"
      },
      "execution_count": null,
      "outputs": [
        {
          "output_type": "stream",
          "name": "stdout",
          "text": [
            "25 <class 'int'>\n"
          ]
        }
      ]
    },
    {
      "cell_type": "code",
      "source": [
        "age=25\n",
        "age+=0.5\n",
        "print(age, type(age)) ##Buna örtük tür dönüştürme denir. İnt floata dönüştü ama hala matematiksel olarak devam edilebilir."
      ],
      "metadata": {
        "colab": {
          "base_uri": "https://localhost:8080/"
        },
        "id": "cag_ucUVjV3_",
        "outputId": "e257820b-b127-4864-e6ab-16123fd843b8"
      },
      "execution_count": null,
      "outputs": [
        {
          "output_type": "stream",
          "name": "stdout",
          "text": [
            "25.5 <class 'float'>\n"
          ]
        }
      ]
    },
    {
      "cell_type": "code",
      "source": [
        "age='age'\n",
        "type(age)"
      ],
      "metadata": {
        "colab": {
          "base_uri": "https://localhost:8080/"
        },
        "id": "InF9lvL7jser",
        "outputId": "a209b0fc-846a-431f-9e9a-a6bb806b7e6f"
      },
      "execution_count": null,
      "outputs": [
        {
          "output_type": "execute_result",
          "data": {
            "text/plain": [
              "str"
            ]
          },
          "metadata": {},
          "execution_count": 24
        }
      ]
    },
    {
      "cell_type": "code",
      "source": [
        "#şu anda bu sayı bir karakter olarak ifade edildiği için hiçbir matematiksel işlemle devam edemez. Bu yüzden türünü değiştirmemiz gerekir. Buna açık dönüşüm denir ve bunun için int(), float(), str() gibi önceden tanımlanmış işlevleri kullanırız."
      ],
      "metadata": {
        "id": "71Wca_Nyj2TF"
      },
      "execution_count": null,
      "outputs": []
    },
    {
      "cell_type": "code",
      "source": [
        "age='25'\n",
        "age=int(age)\n",
        "print(age, type(age))"
      ],
      "metadata": {
        "colab": {
          "base_uri": "https://localhost:8080/"
        },
        "id": "f516Lzo1j-rj",
        "outputId": "dddcf8b9-ceec-4ae5-d039-096de4ddcf59"
      },
      "execution_count": null,
      "outputs": [
        {
          "output_type": "stream",
          "name": "stdout",
          "text": [
            "25 <class 'int'>\n"
          ]
        }
      ]
    },
    {
      "cell_type": "markdown",
      "source": [
        "####Input and Output Functions####\n",
        "- Output: print() fonksiyonudur."
      ],
      "metadata": {
        "id": "owMUsi07mZT4"
      }
    },
    {
      "cell_type": "code",
      "source": [
        "print(\"Hi, this is Python!\")"
      ],
      "metadata": {
        "colab": {
          "base_uri": "https://localhost:8080/"
        },
        "id": "a3-uaae8mzkJ",
        "outputId": "27e1a5b2-d577-4e41-f9e0-53e8d30d79eb"
      },
      "execution_count": null,
      "outputs": [
        {
          "output_type": "stream",
          "name": "stdout",
          "text": [
            "Hi, this is Python!\n"
          ]
        }
      ]
    },
    {
      "cell_type": "code",
      "source": [
        "name='Deniz'\n",
        "print(name)"
      ],
      "metadata": {
        "colab": {
          "base_uri": "https://localhost:8080/"
        },
        "id": "BbJUMccknIvX",
        "outputId": "c23aaf89-b153-4e38-b9b0-7bcc58a1f806"
      },
      "execution_count": null,
      "outputs": [
        {
          "output_type": "stream",
          "name": "stdout",
          "text": [
            "Deniz\n"
          ]
        }
      ]
    },
    {
      "cell_type": "code",
      "source": [
        "name='Selin'\n",
        "print('Hello', name)\n",
        "#Bu şekilde, değiştirilemeyen statik değer \"Hello\" ile değiştirebileceğimiz dinamik değişken \"name\"i yazdırdık."
      ],
      "metadata": {
        "colab": {
          "base_uri": "https://localhost:8080/"
        },
        "id": "X8BcWX5inXlg",
        "outputId": "ba4a84cb-1ecd-404f-9cf4-67d3dcdf74de"
      },
      "execution_count": null,
      "outputs": [
        {
          "output_type": "stream",
          "name": "stdout",
          "text": [
            "Hello Selin\n"
          ]
        }
      ]
    },
    {
      "cell_type": "markdown",
      "source": [
        "- Python'un giriş fonksiyonu sayesinde, kodun çalışma zamanında veya program yürütülürken kullanıcıdan girdileri toplayabiliriz.\n"
      ],
      "metadata": {
        "id": "TXku5lunn8U5"
      }
    },
    {
      "cell_type": "markdown",
      "source": [
        "- Örneğin, bu kodla kişiselleştirilmiş bir selamlama yazdırabiliriz. Bu kod çalıştırıldığında, kullanıcı `name` değişkeninin değerini girmek zorundadır. - Daha sonra, yazdırma fonksiyonu kullanıcının girdiği değere göre bir çıktı üretecektir. Örneğimizde, kullanıcının \"Deniz\" girdiğini varsayalım.\n",
        "- Çıktı aşağıdaki gibi olacaktır. Kodu tekrar çalıştırdığımızda ve \"Deniz\" yerine \"Selin\" girdiğimizde, çıktımız değişecektir."
      ],
      "metadata": {
        "id": "IFkRX21Yoxyj"
      }
    },
    {
      "cell_type": "code",
      "source": [
        "name=input('Name: ')\n",
        "print('Greetings', name)"
      ],
      "metadata": {
        "colab": {
          "base_uri": "https://localhost:8080/"
        },
        "id": "yydqRvA5oXwV",
        "outputId": "c23c2987-b5cd-43a3-db10-4967748c947c"
      },
      "execution_count": null,
      "outputs": [
        {
          "output_type": "stream",
          "name": "stdout",
          "text": [
            "Name: Merve\n",
            "Greetings Merve\n"
          ]
        }
      ]
    },
    {
      "cell_type": "markdown",
      "source": [
        "- Örneğin, kullanıcıdan bir sayı istiyoruz ve sonra bu sayıya 10 eklemek istiyoruz. Öğrendiklerimizi kullanarak bunun gibi bir kod yazabiliriz.\n",
        "\n",
        "- Bu kod kullanıcıdan bir sayı alıyor ve bu sayıya 10 ekliyor. Sonra bunu ekrana yazdırıyor. Diyelim ki kullanıcı 5 değerini girdi. Kodu çalıştırdığımızda aşağıdaki çıktıyı alıyoruz"
      ],
      "metadata": {
        "id": "F-wKUuToo8Du"
      }
    },
    {
      "cell_type": "code",
      "source": [
        "number = input(\"Number: \")\n",
        "print(number + 10)"
      ],
      "metadata": {
        "colab": {
          "base_uri": "https://localhost:8080/",
          "height": 176
        },
        "id": "hyXRDKALpAL-",
        "outputId": "ece10a04-6f82-4ed4-90af-8df33d2f8d7f"
      },
      "execution_count": null,
      "outputs": [
        {
          "name": "stdout",
          "output_type": "stream",
          "text": [
            "Number: 5\n"
          ]
        },
        {
          "output_type": "error",
          "ename": "TypeError",
          "evalue": "can only concatenate str (not \"int\") to str",
          "traceback": [
            "\u001b[0;31m---------------------------------------------------------------------------\u001b[0m",
            "\u001b[0;31mTypeError\u001b[0m                                 Traceback (most recent call last)",
            "\u001b[0;32m<ipython-input-34-a07d619c15d2>\u001b[0m in \u001b[0;36m<cell line: 2>\u001b[0;34m()\u001b[0m\n\u001b[1;32m      1\u001b[0m \u001b[0mnumber\u001b[0m \u001b[0;34m=\u001b[0m \u001b[0minput\u001b[0m\u001b[0;34m(\u001b[0m\u001b[0;34m\"Number: \"\u001b[0m\u001b[0;34m)\u001b[0m\u001b[0;34m\u001b[0m\u001b[0;34m\u001b[0m\u001b[0m\n\u001b[0;32m----> 2\u001b[0;31m \u001b[0mprint\u001b[0m\u001b[0;34m(\u001b[0m\u001b[0mnumber\u001b[0m \u001b[0;34m+\u001b[0m \u001b[0;36m10\u001b[0m\u001b[0;34m)\u001b[0m\u001b[0;34m\u001b[0m\u001b[0;34m\u001b[0m\u001b[0m\n\u001b[0m",
            "\u001b[0;31mTypeError\u001b[0m: can only concatenate str (not \"int\") to str"
          ]
        }
      ]
    },
    {
      "cell_type": "markdown",
      "source": [
        "- Bir hata alıyoruz çünkü kodumuz dize ve tam sayı verilerini eklemeye çalışıyor. Ve matematiksel işlemleri yalnızca sayı verileriyle yapabileceğimizi biliyoruz.\n",
        "- Artık girdi fonksiyonumuzdaki verilerin dize veri türü olarak saklandığını biliyorsunuz. Bu yüzden bu verileri tam sayıya dönüştürmemiz gerekiyor.\n",
        "- Bunu yapmak için, önceki derste gördüğümüz tür dönüşümünü kullanabiliriz."
      ],
      "metadata": {
        "id": "h0U80B_-pQVl"
      }
    },
    {
      "cell_type": "code",
      "source": [
        "number = int(input(\"Number: \"))\n",
        "print(number + 10)"
      ],
      "metadata": {
        "colab": {
          "base_uri": "https://localhost:8080/"
        },
        "id": "JyM5v4DLpbn4",
        "outputId": "1306701b-94bf-4f60-dae4-4349c5fe7623"
      },
      "execution_count": null,
      "outputs": [
        {
          "output_type": "stream",
          "name": "stdout",
          "text": [
            "Number: 15\n",
            "25\n"
          ]
        }
      ]
    },
    {
      "cell_type": "markdown",
      "source": [
        "####Import/Modül:\n",
        "- Programımız büyüdükçe ve daha karmaşık hale geldikçe, kod miktarı da artar. Bunu daha iyi yönetmek için yapabileceğimiz şey, onu parçalara ayırmaktır. Bu parçalara modüller denir.\n",
        "Modüller:\n",
        "1. Built-in\n",
        "2. Ready to use\n"
      ],
      "metadata": {
        "id": "I2ZeVs9TrAzh"
      }
    },
    {
      "cell_type": "code",
      "source": [
        "import math"
      ],
      "metadata": {
        "id": "bcpa6xwyryQk"
      },
      "execution_count": null,
      "outputs": []
    },
    {
      "cell_type": "markdown",
      "source": [
        "Math modüllerindeki yöntemlerden biri de floor yöntemidir.\n",
        "\n",
        "Ondalık sayıları en yakın tam sayıya yuvarlamak için math.floor kullanırız. Örneğin, 3.45 sayımız varsa.\n",
        "\n",
        "floor yöntemi bu sayıdan küçük veya ona eşit en büyük tam sayıyı döndürür. Bu kodun çıktısı 3'tür ve veri türü integer'dır."
      ],
      "metadata": {
        "id": "FlycNwSgsJGM"
      }
    },
    {
      "cell_type": "code",
      "source": [
        "floor_number = (math.floor(3.45))\n",
        "print(floor_number, type(floor_number))"
      ],
      "metadata": {
        "colab": {
          "base_uri": "https://localhost:8080/"
        },
        "id": "JkuESfxsr4Cj",
        "outputId": "8daf077f-84a6-419f-d090-a51e880a3501"
      },
      "execution_count": null,
      "outputs": [
        {
          "output_type": "stream",
          "name": "stdout",
          "text": [
            "3 <class 'int'>\n"
          ]
        }
      ]
    },
    {
      "cell_type": "markdown",
      "source": [
        "Başka bir örnek olarak, kullanıcıya geçerli tarih ve saati göstermek istediğinizi varsayalım.\n",
        "\n",
        "Bunun için datetime modülünü ve datetime.now yöntemini kullanmanız gerekir. Bu kodun çıktısı size geçerli tarih ve saati verecektir."
      ],
      "metadata": {
        "id": "B8gKuqxysOsO"
      }
    },
    {
      "cell_type": "code",
      "source": [
        "import datetime\n",
        "print(datetime.datetime.now())"
      ],
      "metadata": {
        "colab": {
          "base_uri": "https://localhost:8080/"
        },
        "id": "QD2V9byFsUhL",
        "outputId": "71ac9ac1-a281-42e0-f134-7427efea8165"
      },
      "execution_count": null,
      "outputs": [
        {
          "output_type": "stream",
          "name": "stdout",
          "text": [
            "2024-08-06 21:56:27.938434\n"
          ]
        }
      ]
    },
    {
      "cell_type": "markdown",
      "source": [
        "Random modülü. Python'da rastgele bir sayı üretmemiz gerektiğinde random modülünü kullanabiliriz. Örneğin, \"Zar At\" oyununu programlamak istiyorsanız.\n",
        "\n",
        "Python'dan bizim için bir zar atmasını nasıl isteyebileceğimize bakalım.\n",
        "\n",
        "randint yöntemi, verdiğimiz aralıkta bir tam sayı değeri üretir, bu durumda 1 ve 6. Kodu her çalıştırdığımızda, Python 1 ile 6 arasında rastgele bir sayı üretir."
      ],
      "metadata": {
        "id": "LwlLQ-ZCsl9e"
      }
    },
    {
      "cell_type": "code",
      "source": [
        "import random\n",
        "\n",
        "print(random.randint(1,6))"
      ],
      "metadata": {
        "colab": {
          "base_uri": "https://localhost:8080/"
        },
        "id": "pXabmuI_spbe",
        "outputId": "5437314b-99b3-485b-ca3c-164d23e41df2"
      },
      "execution_count": null,
      "outputs": [
        {
          "output_type": "stream",
          "name": "stdout",
          "text": [
            "1\n"
          ]
        }
      ]
    },
    {
      "cell_type": "code",
      "source": [
        "import random\n",
        "\n",
        "print(random.randint(1,6))"
      ],
      "metadata": {
        "colab": {
          "base_uri": "https://localhost:8080/"
        },
        "id": "9BrEFzWUsvh-",
        "outputId": "c4fd6b7e-a14b-4183-f817-e7f13fb5bbd2"
      },
      "execution_count": null,
      "outputs": [
        {
          "output_type": "stream",
          "name": "stdout",
          "text": [
            "3\n"
          ]
        }
      ]
    },
    {
      "cell_type": "code",
      "source": [
        "import random\n",
        "\n",
        "print(random.randint(1,6))"
      ],
      "metadata": {
        "colab": {
          "base_uri": "https://localhost:8080/"
        },
        "id": "rO117Ljusx7Q",
        "outputId": "1b7d302d-4742-4e23-f1b2-cdc69119ab7e"
      },
      "execution_count": null,
      "outputs": [
        {
          "output_type": "stream",
          "name": "stdout",
          "text": [
            "2\n"
          ]
        }
      ]
    },
    {
      "cell_type": "markdown",
      "source": [
        "- Operators: Python'da aritmetik veya mantıksal hesaplamalar yapmamızı sağlayan özel sembollere operatörler, bu işlemlerde kullanılan değerlere ise işlenenler denir.\n",
        "\n",
        "Python'da 4 tip operatör vardır:\n",
        "1. Aritmetik(arithmetic)\n",
        "2. Atama(assignment)\n",
        "3. Karşılaştırma(comparison)\n",
        "4. Mantıksal operatörler.(logical)"
      ],
      "metadata": {
        "id": "Dn6m5zOl5_e_"
      }
    },
    {
      "cell_type": "markdown",
      "source": [
        "1. Aritmetik Operatörler: Değerlerin toplanması ve çıkarılması gibi matematiksel görevleri gerçekleştirmek için kullanılır.\n",
        "\n",
        "Örneğin, 2'yi 5'e eklemek istiyorsak, + sembolü operatörümüz, 2 ve 5 ise işlenenlerimiz olur. Bu kodu çalıştırdığımızda, çıktı olarak 7 döndürecektir."
      ],
      "metadata": {
        "id": "vjH1RHs26-ml"
      }
    },
    {
      "cell_type": "code",
      "source": [
        "print(2+5)"
      ],
      "metadata": {
        "colab": {
          "base_uri": "https://localhost:8080/"
        },
        "id": "kD2fvJBN7R2k",
        "outputId": "9d3f33cb-e9cb-46b2-a7db-dbe98b110891"
      },
      "execution_count": null,
      "outputs": [
        {
          "output_type": "stream",
          "name": "stdout",
          "text": [
            "7\n"
          ]
        }
      ]
    },
    {
      "cell_type": "markdown",
      "source": [
        "İki değeri çıkarmak istiyorsak, eksi - operatörünü kullanırız. Çarpma için yıldız işareti *, bölme için ters eğik çizgi sembolü / kullanırız. Üs alma işlemi yapmak istiyorsak çift yıldız ** işareti kullanırız."
      ],
      "metadata": {
        "id": "ALe0h4kO7YfN"
      }
    },
    {
      "cell_type": "code",
      "source": [
        "print(\"5 + 2 =\", 5+2) #Burada \"5+2=\" ifadesi bir string integer değil. Sadece göstermek amaçlı yazıldı.\n",
        "print(\"5 - 2 =\", 5-2)\n",
        "print(\"5 * 2 =\", 5*2)\n",
        "print(\"5 / 2 =\", 5/2) #tam sayı olarak bölüyor.\n",
        "print(\"5 ** 2 =\", 5**2) #karesi"
      ],
      "metadata": {
        "colab": {
          "base_uri": "https://localhost:8080/"
        },
        "id": "y2tAVevB7lip",
        "outputId": "022ef891-7030-44d9-9ed8-1a3ae20d3423"
      },
      "execution_count": null,
      "outputs": [
        {
          "output_type": "stream",
          "name": "stdout",
          "text": [
            "5 + 2 = 7\n",
            "5 - 2 = 3\n",
            "5 * 2 = 10\n",
            "5 / 2 = 2.5\n",
            "5 ** 2 = 25\n"
          ]
        }
      ]
    },
    {
      "cell_type": "markdown",
      "source": [
        "Python'da, sayı her zaman daha küçük tam sayıya yuvarlanır ve bunun için çift ters eğik çizgi // sembollerini kullanırız. Son olarak, size bir bölmenin kalanını verecek olan modül operatörüne % sahibiz."
      ],
      "metadata": {
        "id": "cdcGA_fT8GzO"
      }
    },
    {
      "cell_type": "code",
      "source": [
        "print(\"5 % 2= \", 5%2) #bölmenin kalanını veren modül\n",
        "print(\"5 // 2= \", 5//2) #sayı daha küçük tam sayıya yuvarlandı."
      ],
      "metadata": {
        "colab": {
          "base_uri": "https://localhost:8080/"
        },
        "id": "IZ_oBx418O2U",
        "outputId": "e00dc97f-54f9-497b-a4b2-75de2fc62377"
      },
      "execution_count": null,
      "outputs": [
        {
          "output_type": "stream",
          "name": "stdout",
          "text": [
            "5 % 2=  1\n",
            "5 // 2=  2\n"
          ]
        }
      ]
    },
    {
      "cell_type": "markdown",
      "source": [
        "2. Assignment/Atama Operatörleri: Değişkenlere değer atamamıza olanak tanır.\n",
        "\n",
        "Bir değişken üzerinde matematiksel bir işlem yapmak ve onu kendisine yeniden atamak istediğimizde bu sözdizimini kullanabiliriz.\n",
        "\n",
        "Örneğin, x değişkeninin değerine 5 eklemek istiyorsak. x = x + 5 yazmak yerine, += operatörünü kullanabilir ve x += 5 yazabiliriz. Bu şekilde x'e 5 ekleriz ve onu yalnızca bir operatörle tekrar kendisine eşitleriz.\n"
      ],
      "metadata": {
        "id": "B51TK5rO9A3T"
      }
    },
    {
      "cell_type": "code",
      "source": [
        "x = 5 #x 5'e eşit.\n",
        "x += 5 # x = x + 5\n",
        "x -= 5 # x = x - 5\n",
        "x *= 5 # x = x * 5\n",
        "x /= 5 # x = x / 5\n",
        "x %= 5 # x = x % 5\n",
        "x //= 5 # x = x // 5\n",
        "x **= 5 # x = x ** 5"
      ],
      "metadata": {
        "id": "SyKUa1k19Ugs"
      },
      "execution_count": null,
      "outputs": []
    },
    {
      "cell_type": "markdown",
      "source": [
        "3. Comparison/ Karşılaştırma Operatörleri: İki değeri karşılaştırmak için kullanılır.\n",
        "\n",
        "Karşılaştırmanın bir sonucu olarak \"True\" veya \"False\" değerlerini elde ederiz.\n"
      ],
      "metadata": {
        "id": "hu34fi5X_fbp"
      }
    },
    {
      "cell_type": "code",
      "source": [
        "num1=10\n",
        "num2=5\n",
        "\n",
        "print(num1, \">\", num2, \"=\", num1>num2)\n",
        "print(num1, \"<\", num2, \"=\", num1<num2)\n",
        "print(num1, \">=\", num2, \"=\", num1>=num2)\n",
        "print(num1, \"<=\", num2, \"=\", num1<=num2)\n",
        "print(num1, \"==\", num2, \"=\", num1==num2) #Çift eşittir işareti (==) iki değerin eşit olup olmadığını kontrol eder.\n",
        "print(num1, \"!=\", num2, \"=\", num1!=num2) #eşit değil işareti (!=) iki değerin birbirine eşit olup olmadığını kontrol eder"
      ],
      "metadata": {
        "colab": {
          "base_uri": "https://localhost:8080/"
        },
        "id": "ZGkPId7n_5d2",
        "outputId": "82c00cbe-91c3-47c6-b62c-0cdd18dd1fe4"
      },
      "execution_count": null,
      "outputs": [
        {
          "output_type": "stream",
          "name": "stdout",
          "text": [
            "10 > 5 = True\n",
            "10 < 5 = False\n",
            "10 >= 5 = True\n",
            "10 <= 5 = False\n",
            "10 == 5 = False\n",
            "10 != 5 = True\n"
          ]
        }
      ]
    },
    {
      "cell_type": "markdown",
      "source": [
        "4. Mantıksal/Logical Operatörler: Bunlar genellikle iki veya daha fazla ifadenin \"Doğru\" veya \"Yanlış\" olup olmadığını değerlendirmek için kullanılır.\n",
        "\n",
        "\"ve/and\", \"veya/or\", \"değil/not\"\n",
        "\n",
        "-\"Ve/And\" Operatörü: Doğruluk operatörü.\n",
        "\n",
        "A ve B işlenenlerimiz ve doğruluk değerleri var. Bu tablo ayrıca işlenenleri \"ve\" operatörüyle işlediğimizde elde etmemiz gereken doğruluk değerlerini de gösterir.\n",
        "\n",
        "- Verilen işlenenlerden herhangi biri Yanlış ise \"ve\" operatörünün çıktısının Yanlış olduğunu görebilirsiniz.\n",
        "- \"Ve\" operatörünün sonucunun Doğru olması için tüm işlenenlerin Doğru olması gerekir."
      ],
      "metadata": {
        "id": "1Q6kQeUiBUeB"
      }
    },
    {
      "cell_type": "code",
      "source": [
        "print(\"True and True =\", True and True) #doğru+doğru=doğru\n",
        "print(\"True and False =\", True and False) #doğru+yanlış=yanlış\n",
        "print(\"False and True =\", False and True) #yanlış+doğru=yanlış\n",
        "print(\"False and False =\", False and False) #yanlış+yanlış=yanlış"
      ],
      "metadata": {
        "colab": {
          "base_uri": "https://localhost:8080/"
        },
        "id": "fx911hYRCQMC",
        "outputId": "d239ba01-2f81-42a8-bed9-55f201c57880"
      },
      "execution_count": null,
      "outputs": [
        {
          "output_type": "stream",
          "name": "stdout",
          "text": [
            "True and True = True\n",
            "True and False = False\n",
            "False and True = False\n",
            "False and False = False\n"
          ]
        }
      ]
    },
    {
      "cell_type": "code",
      "source": [
        "print(True and False and False)"
      ],
      "metadata": {
        "colab": {
          "base_uri": "https://localhost:8080/"
        },
        "id": "ZH2nbk78DbwZ",
        "outputId": "3e6c28b3-d948-4c74-b160-58c12ceeea1d"
      },
      "execution_count": null,
      "outputs": [
        {
          "output_type": "stream",
          "name": "stdout",
          "text": [
            "False\n"
          ]
        }
      ]
    },
    {
      "cell_type": "markdown",
      "source": [
        "- \"Veya/Or\" Operatörü:\n",
        "- İşlenenlerden birinin \"True\" olması durumunda, \"veya\" operatörünün True döndürmesinin yeterli olduğunu görebiliriz.\n",
        "- Tüm işlenenlerimiz \"False\" ise, \"veya\" operatörünün çıktısı False olacaktır."
      ],
      "metadata": {
        "id": "5ytJMAR4Dm79"
      }
    },
    {
      "cell_type": "code",
      "source": [
        "print(\"True or False =\", True or False) #true or false=true\n",
        "print(\"True or True =\", True or True) #true or true=true\n",
        "print(\"False or True =\", False or True) #false or true=true\n",
        "print(\"False or False =\", False or False) #false or false=false"
      ],
      "metadata": {
        "colab": {
          "base_uri": "https://localhost:8080/"
        },
        "id": "0ZrG5wmWD9cv",
        "outputId": "98862f25-1e2d-4f7b-ebf5-b7b0cc4cdf05"
      },
      "execution_count": null,
      "outputs": [
        {
          "output_type": "stream",
          "name": "stdout",
          "text": [
            "True or False = True\n",
            "True or True = True\n",
            "False or True = True\n",
            "False or False = False\n"
          ]
        }
      ]
    },
    {
      "cell_type": "markdown",
      "source": [
        "- \"Not/Değil\" Operatörü:\"Not\" operatörü doğruluk değerini tersine çevirir.\n",
        "- \"Not\" operatörü ile True olan bir değeri işlersek False değerini alırız.\n",
        "- \"Not\" operatörü ile False olan bir değeri işlersek True değerini alırız. İstenen doğruluk değerinin önüne \"not\" anahtar kelimesini yazmak yeterlidir.\n"
      ],
      "metadata": {
        "id": "e6tKOXFfEw-I"
      }
    },
    {
      "cell_type": "code",
      "source": [
        "print(\"not True =\", not True)\n",
        "print(\"not False =\", not False)"
      ],
      "metadata": {
        "colab": {
          "base_uri": "https://localhost:8080/"
        },
        "id": "L11clhc1FArz",
        "outputId": "53aca424-df58-485b-a98d-4dc15868969c"
      },
      "execution_count": null,
      "outputs": [
        {
          "output_type": "stream",
          "name": "stdout",
          "text": [
            "not True = False\n",
            "not False = True\n"
          ]
        }
      ]
    },
    {
      "cell_type": "markdown",
      "source": [
        "####Özetlemek gerekirse, aritmetik operatörler toplama gibi matematiksel işlemler yapmamızı sağlar. Atama operatörleri değişkenlere değer atamamıza yardımcı olur. Karşılaştırma operatörleriyle iki değeri veya değişkeni karşılaştırabiliriz ve mantıksal olanlar True ve False değerlerini test etmek için kullanılır.####"
      ],
      "metadata": {
        "id": "IzHYto-qFYkO"
      }
    },
    {
      "cell_type": "code",
      "source": [
        "#Create your list\n",
        "favourite_places_foods = [\"Pendik\", \"Kartal\", \"Kadıköy\", \"Tuzla\", \"Karacasu\", \"Lahmacun\", \"Köfte\", \"Döner\", \"Balık\", \"Pide\"]\n",
        "\n",
        "print(favourite_places_foods)"
      ],
      "metadata": {
        "colab": {
          "base_uri": "https://localhost:8080/"
        },
        "id": "ctnkSeZTZJmb",
        "outputId": "9179be03-e94c-43ee-9e66-6af3926660ce"
      },
      "execution_count": null,
      "outputs": [
        {
          "output_type": "stream",
          "name": "stdout",
          "text": [
            "['Pendik', 'Kartal', 'Kadıköy', 'Tuzla', 'Karacasu', 'Lahmacun', 'Köfte', 'Döner', 'Balık', 'Pide']\n"
          ]
        }
      ]
    },
    {
      "cell_type": "code",
      "source": [
        "#Yemek yerlerini ve yemeklerini ayrı gruplayalım:\n",
        "\n",
        "fav_places=favourite_places_foods[0:5]\n",
        "fav_foods=favourite_places_foods[5:10]\n",
        "\n",
        "print(fav_places)\n",
        "print(fav_foods)\n",
        "\n",
        "first_three_places=fav_places[:3]\n",
        "print(first_three_places)"
      ],
      "metadata": {
        "colab": {
          "base_uri": "https://localhost:8080/"
        },
        "id": "OV8bIaD6ZloG",
        "outputId": "ea6f2cf7-ed80-44ba-eb5a-85f39dd60706"
      },
      "execution_count": null,
      "outputs": [
        {
          "output_type": "stream",
          "name": "stdout",
          "text": [
            "['Pendik', 'Kartal', 'Kadıköy', 'Tuzla', 'Karacasu']\n",
            "['Lahmacun', 'Köfte', 'Döner', 'Balık', 'Pide']\n",
            "['Pendik', 'Kartal', 'Kadıköy']\n"
          ]
        }
      ]
    },
    {
      "cell_type": "code",
      "source": [
        "#Select the first and last three from place and food lists\n",
        "fav_places=favourite_places_foods[0:5]\n",
        "fav_foods=favourite_places_foods[5:10]\n",
        "first_three_places=fav_places[:3]\n",
        "last_three_foods=fav_foods[2:5]\n",
        "\n",
        "print(first_three_places)\n",
        "print(last_three_foods)\n",
        "\n"
      ],
      "metadata": {
        "colab": {
          "base_uri": "https://localhost:8080/"
        },
        "id": "LJuh7AXJbbCl",
        "outputId": "71670e90-5534-430f-9046-acb52c2e476e"
      },
      "execution_count": null,
      "outputs": [
        {
          "output_type": "stream",
          "name": "stdout",
          "text": [
            "['Pendik', 'Kartal', 'Kadıköy']\n",
            "['Döner', 'Balık', 'Pide']\n"
          ]
        }
      ]
    },
    {
      "cell_type": "code",
      "source": [
        "#It's quite hard to make a choice from these three. But why not let the computer choose for you? Do you remember the game of dice from our videos? Here is what you need to do.\n",
        "\"\"\"-Import the random module\n",
        "   -Generate two random numbers between 0-2\n",
        "   -Use each number as the index to choose an item from your favourite-place and food lists\n",
        "   -Print the results to the screen\"\"\""
      ],
      "metadata": {
        "id": "FQmot4EbcZlC"
      },
      "execution_count": null,
      "outputs": []
    },
    {
      "cell_type": "code",
      "source": [
        "#import random module\n",
        "import random\n",
        "a=random.randint(0,2) #2 numbers generated\n",
        "b=random.randint(0,2)\n",
        "\n",
        "random_place=first_three_places[a]\n",
        "random_food=last_three_foods[b]\n",
        "\n",
        "print(random_place)\n",
        "print(random_food)\n",
        "\n"
      ],
      "metadata": {
        "id": "noNDWmbSctfQ",
        "colab": {
          "base_uri": "https://localhost:8080/"
        },
        "outputId": "f0555fc7-05bc-491d-c968-a6809a767689"
      },
      "execution_count": null,
      "outputs": [
        {
          "output_type": "stream",
          "name": "stdout",
          "text": [
            "Pendik\n",
            "Balık\n"
          ]
        }
      ]
    },
    {
      "cell_type": "code",
      "source": [
        "#import random module\n",
        "import random\n",
        "a=random.randint(0,2) #2 numbers generated\n",
        "b=random.randint(0,2)\n",
        "\n",
        "random_place=first_three_places[a]\n",
        "random_food=last_three_foods[b]\n",
        "\n",
        "print(random_place)\n",
        "print(random_food)"
      ],
      "metadata": {
        "colab": {
          "base_uri": "https://localhost:8080/"
        },
        "id": "XtrHgvmsfms2",
        "outputId": "a5670c00-2e8f-4f3c-ae84-9700547b2b47"
      },
      "execution_count": null,
      "outputs": [
        {
          "output_type": "stream",
          "name": "stdout",
          "text": [
            "Kartal\n",
            "Döner\n"
          ]
        }
      ]
    },
    {
      "cell_type": "markdown",
      "source": [
        "Now, you have your place and meals, but after lunch there are still lots of activities that you can do together...or separately.\n",
        "\n",
        "Let's say there are three pre-defined options: playing chess, playing tennis and visiting a museum. Chess and tennis require both of you to participate, but you can visit the museum separately as well.\n",
        "\n",
        "We need a code to indicate which activities each of you would like to do and which ones will be able to do. A chance to use our logical operators.\n",
        "\n",
        "Define activities\n",
        "Use the operands 'True' and 'False' to indicate your and Amir's preference for each activity\n",
        "Use the logical operators 'and' and 'or' to define which activities you will be able to do"
      ],
      "metadata": {
        "id": "dxg0hyl-gOZU"
      }
    },
    {
      "cell_type": "code",
      "source": [
        "first_activity=\"Let's play table tennis in the cafe\"\n",
        "second_activity=\"Let's play badminton in the garden\"\n",
        "third_activity=\"Let's visit aquarium\"\n",
        "\n",
        "first_activity_mine= True\n",
        "first_activity_Kelly= False\n",
        "print(\"We are playing table tennis. Is it OK for you?\", first_activity_mine and first_activity_Kelly)"
      ],
      "metadata": {
        "colab": {
          "base_uri": "https://localhost:8080/"
        },
        "id": "Q3xqWpVCgbtw",
        "outputId": "f979d044-f807-4277-f687-a022e983b4d1"
      },
      "execution_count": null,
      "outputs": [
        {
          "output_type": "stream",
          "name": "stdout",
          "text": [
            "We are playing table tennis. Is it OK for you? False\n"
          ]
        }
      ]
    },
    {
      "cell_type": "code",
      "source": [
        "first_activity=\"Let's play table tennis in the cafe\"\n",
        "second_activity=\"Let's play badminton in the garden\"\n",
        "third_activity=\"Let's visit aquarium\"\n",
        "\n",
        "second_activity_mine=True\n",
        "second_activity_Kelly=False\n",
        "\n",
        "print(\"We can play first table tennis then badminton. Is it OK for you Kelly? Answer:\", first_activity_Kelly or second_activity_Kelly )"
      ],
      "metadata": {
        "colab": {
          "base_uri": "https://localhost:8080/"
        },
        "id": "7uBXU7H4iGIW",
        "outputId": "501790f8-9356-49ba-f1a8-ad3a2e9f64d2"
      },
      "execution_count": null,
      "outputs": [
        {
          "output_type": "stream",
          "name": "stdout",
          "text": [
            "We can play first table tennis then badminton. Is it OK for you Kelly? Answer: False\n"
          ]
        }
      ]
    },
    {
      "cell_type": "code",
      "source": [
        "first_activity=\"Let's play table tennis in the cafe\"\n",
        "second_activity=\"Let's play badminton in the garden\"\n",
        "third_activity=\"Let's visit aquarium\"\n",
        "\n",
        "second_activity_mine=False\n",
        "second_activity_Kelly=True\n",
        "\n",
        "print(\"I dont want to play badminton. Can we play table tennis? Answer:\", second_activity_mine or second_activity_Kelly)"
      ],
      "metadata": {
        "colab": {
          "base_uri": "https://localhost:8080/"
        },
        "id": "9TwJc1Ciitg0",
        "outputId": "f1299026-b9f5-4ca6-d479-c4e2a6dcd9a9"
      },
      "execution_count": null,
      "outputs": [
        {
          "output_type": "stream",
          "name": "stdout",
          "text": [
            "I dont want to play badminton. Can we play table tennis? Answer: True\n"
          ]
        }
      ]
    },
    {
      "cell_type": "code",
      "source": [
        "#Create a variable for your trip date that asks Amir for an input\n",
        "meeting_date = input('In which month do you want to do on our fun adventure?: ')\n",
        "\n",
        "#Print the date for the trip by using it in a sentence\n",
        "print(\"We are going to\",random_place, \"and we will eat\", random_food, \"in\", meeting_date)"
      ],
      "metadata": {
        "colab": {
          "base_uri": "https://localhost:8080/"
        },
        "id": "f2h-rNz0lPNZ",
        "outputId": "8d14f0d5-b61b-4346-cf23-9f57e6bc1990"
      },
      "execution_count": null,
      "outputs": [
        {
          "output_type": "stream",
          "name": "stdout",
          "text": [
            "In which month do you want to do on our fun adventure?: may\n",
            "We are going to Kartal and we will eat Döner in may\n"
          ]
        }
      ]
    },
    {
      "cell_type": "markdown",
      "source": [
        "# Chapter 3: Flow Controls\n",
        "# If-Else İfadeleri:\n",
        "Burada koşullu ifadeler, farklı döngü türleri ve bunların nasıl kullanılacağını göreceğiz.\n",
        "\n",
        "Koşullu ifadelerle başlayacağız. Bunlar, programımızın belirli durumlarda nasıl davranacağını belirttiğimiz ifadelerdir. Bunlar, kendileri için tanımladığımız kurallara göre kendi başlarına kararlar alabilen programlar yazmamızı sağlar.\n",
        "\n",
        "Örneğin, ekranda odanın sıcaklığını gösteren bir termometre için bir program yazdığımızı varsayalım. Programımızın dikkate alması için belirlediğimiz üç sıcaklık aralığı vardır:\n",
        "- Sıcaklık 30 santigrat derecenin üzerine çıkarsa, programımızın kırmızı bir alev simgesi göstermesini istiyoruz.\n",
        "- 20 ile 30 derece arasındaysa yeşil bir kare.\n",
        "- 20 derecenin altındaysa bir kar tanesi belirir. Bu, burada üç koşulumuz olduğu anlamına gelir.\n",
        "\n",
        "\n",
        "\n",
        "\n"
      ],
      "metadata": {
        "id": "bvWWhj4tsmX2"
      }
    },
    {
      "cell_type": "code",
      "source": [
        "celcius=25\n",
        "if celcius>20:\n",
        "  print('Good 🟩')"
      ],
      "metadata": {
        "colab": {
          "base_uri": "https://localhost:8080/"
        },
        "id": "eEY1YwHCwuh2",
        "outputId": "839510b3-2c5b-4ed4-8ab2-dccf42305df6"
      },
      "execution_count": null,
      "outputs": [
        {
          "output_type": "stream",
          "name": "stdout",
          "text": [
            "Good 🟩\n"
          ]
        }
      ]
    },
    {
      "cell_type": "code",
      "source": [
        "celcius=18\n",
        "if celcius > 20:\n",
        "  print('Good 🟩')   #yazdırmadı çümkü ifade doğru değil. Doğru olursa yazdırsın demiştik."
      ],
      "metadata": {
        "id": "wBiBnPm7xHWa"
      },
      "execution_count": null,
      "outputs": []
    },
    {
      "cell_type": "code",
      "source": [
        "celcius=18\n",
        "if celcius>20:\n",
        "  print('Good 🟩')\n",
        "else:             #if koşulumuz işe yaramazsa kullanabileceğimiz bir anahtar kelimemiz var, buna 'else' denir.\n",
        "  print('Cold ❄️')"
      ],
      "metadata": {
        "colab": {
          "base_uri": "https://localhost:8080/"
        },
        "id": "ghHnJHD9xjVz",
        "outputId": "82f01690-b9e0-4bcb-deca-708dcc579f14"
      },
      "execution_count": null,
      "outputs": [
        {
          "output_type": "stream",
          "name": "stdout",
          "text": [
            "Cold ❄️\n"
          ]
        }
      ]
    },
    {
      "cell_type": "code",
      "source": [
        "celcius=32\n",
        "if celcius>30:\n",
        "  print('Hot 🔥')\n",
        "if celcius>20:\n",
        "  print('Good 🟩')\n",
        "else:\n",
        "  print('Cold ❄️')"
      ],
      "metadata": {
        "colab": {
          "base_uri": "https://localhost:8080/"
        },
        "id": "brYFePSDyeUc",
        "outputId": "313e7dbd-776a-4047-c41b-f6c619b2744c"
      },
      "execution_count": null,
      "outputs": [
        {
          "output_type": "stream",
          "name": "stdout",
          "text": [
            "Hot 🔥\n",
            "Good 🟩\n"
          ]
        }
      ]
    },
    {
      "cell_type": "code",
      "source": [
        "#Elif'in çalışma şekli şöyledir. Python yorumlayıcısı kodu yukarıdan aşağıya okumaya başlar, ilk if koşulumuzu görür ve bu koşul doğruysa, alttaki elif ve else bloklarını atlar ve programa devam eder.\n",
        "\n",
        "celcius=35\n",
        "if celcius>30:\n",
        "  print(\"Hot\")\n",
        "elif celcius>20:  #else ve if kelimelerinin birleşimi\n",
        "  print(\"Good\")\n",
        "else:\n",
        "  print(\"Cold\")"
      ],
      "metadata": {
        "colab": {
          "base_uri": "https://localhost:8080/"
        },
        "id": "Gx95qhMLzGee",
        "outputId": "412f7da9-ea0b-4e1f-899f-93e8f27abb80"
      },
      "execution_count": null,
      "outputs": [
        {
          "output_type": "stream",
          "name": "stdout",
          "text": [
            "Hot\n"
          ]
        }
      ]
    },
    {
      "cell_type": "code",
      "source": [
        "celcius=32\n",
        "if celcius>30:\n",
        "  print(\"Hot\")\n",
        "elif 30 >= celcius >20:\n",
        "  print(\"Good\")\n",
        "elif -273< celcius <=20:\n",
        "  print(\"Cold\")\n",
        "else:\n",
        "  print(\"Something went wrong!\")"
      ],
      "metadata": {
        "colab": {
          "base_uri": "https://localhost:8080/"
        },
        "id": "E_9Tio3P0HjI",
        "outputId": "5c12006e-ce89-424f-b630-3dd94c076b96"
      },
      "execution_count": null,
      "outputs": [
        {
          "output_type": "stream",
          "name": "stdout",
          "text": [
            "Hot\n"
          ]
        }
      ]
    },
    {
      "cell_type": "markdown",
      "source": [
        "- Nested If Stataments/İç içe if durumları:\n",
        "\n",
        "Başka if koşullarının içinde if koşullarını kullanabiliriz.\n",
        "\n",
        "Bir koşul doğru olduğunda izlenecek başka bir koşullu ifadeye sahip olacak bir if bloğu oluşturarak. Bunlara iç içe if ifadeleri diyoruz."
      ],
      "metadata": {
        "id": "rBVu2Kwa1TX-"
      }
    },
    {
      "cell_type": "code",
      "source": [
        "drivers_license=True\n",
        "age=17\n",
        "\n",
        "if age>17:\n",
        "  if driver_license:             #drivers_licence değişkenimiz True değerini tutuyordu. Ve bildiğiniz gibi, if blokları True değerini görürse, çalışacaktır. Bu nedenle drivers_licence = True yazmak yerine, sadece drivers_licence yazmak yeterliydi.\n",
        "    print(\"You can drive car\")\n",
        "  else:\n",
        "    print(\"You need to go to a drivers license course\")\n",
        "else:\n",
        "  print(\"You need to get older\")"
      ],
      "metadata": {
        "colab": {
          "base_uri": "https://localhost:8080/"
        },
        "id": "sJHLNzdb1rVA",
        "outputId": "91f7ec1f-001a-4b3f-ddf8-61e0ccbd0c6b"
      },
      "execution_count": null,
      "outputs": [
        {
          "output_type": "stream",
          "name": "stdout",
          "text": [
            "You need to get older\n"
          ]
        }
      ]
    },
    {
      "cell_type": "markdown",
      "source": [
        "Özetle, koşullu ifadeler programımızın belirli durumlarda nasıl davranacağını tanımlayan ifadelerdir.\n",
        "\n",
        "- Kodun yalnızca koşul True olduğunda çalıştığından emin olmak için 'if' anahtar sözcüğünü bir koşulla takip ederiz.\n",
        "-Önceki koşul doğru olmadığında 'elif' anahtar sözcüğüyle alternatif bir koşul ekleyebiliriz.\n",
        "- Ve önceki koşullardan hiçbiri doğru değilse, 'else' anahtar sözcüğünü kullanabiliriz.\n",
        "- Son olarak, 'if' ifadelerini diğer if ifadelerinin içine de yerleştirebiliriz."
      ],
      "metadata": {
        "id": "w-4l5sqD3BKh"
      }
    },
    {
      "cell_type": "markdown",
      "source": [
        "#FOR LOOPS/FOR DÖNGÜSÜ\n",
        "Python'da iki tür döngü vardır, biri 'for' döngüsü, diğeri ise 'while' döngüsüdür.\n",
        "\n",
        "Python'da 'for' döngüsü, bir dizinin başından sonuna kadar bir döngü oluşturabilir. Daha önce farklı veri türlerindeki öğeleri tutabilen diziler olan listelerden de bahsetmiştik. Bunları Python'un bir 'for' döngüsünü ne sıklıkla tekrarlaması gerektiğini belirtmek için kullanırız."
      ],
      "metadata": {
        "id": "UoKOJzH--IFo"
      }
    },
    {
      "cell_type": "code",
      "source": [
        "#Eyjafjallajökull bu ismi heceletmek istiyorum.\n",
        "print('E')\n",
        "print('y')\n",
        "print('j')\n",
        "print('a')\n",
        "print('f')\n",
        "print('j')\n",
        "print('a')\n",
        "print('l')\n",
        "print('l')\n",
        "print('a')\n",
        "print('j')\n",
        "print('ö')\n",
        "print('k')\n",
        "print('u')\n",
        "print('l')\n",
        "print('l')"
      ],
      "metadata": {
        "colab": {
          "base_uri": "https://localhost:8080/"
        },
        "id": "RhCssrPm-8F8",
        "outputId": "51a67eec-4cfd-4f67-e65a-e3a19e7075ad"
      },
      "execution_count": null,
      "outputs": [
        {
          "output_type": "stream",
          "name": "stdout",
          "text": [
            "E\n",
            "y\n",
            "j\n",
            "a\n",
            "f\n",
            "j\n",
            "a\n",
            "l\n",
            "l\n",
            "a\n",
            "j\n",
            "ö\n",
            "k\n",
            "u\n",
            "l\n",
            "l\n"
          ]
        }
      ]
    },
    {
      "cell_type": "markdown",
      "source": [
        " 'for' ifadesinden sonra bir girinti yaptık ve 'for' döngüsünün çalışması gereken kodu yazdık. Burada, dizenin harflerini tek tek göstermek için print işlevini kullanıyoruz. Bu for ifadesiyle ayrıca bir \"i\" değişkeni tanımladık. 'i' harfi genellikle 'index' anlamına gelir, ancak istediğiniz herhangi bir ad olabilir.\n",
        "\n",
        "\"i\"yi bir dizideki öğelerin değerlerini alan bir yer tutucu olarak düşünebilirsiniz. Örneğimizde bu, \"i\"nin her çalıştırmada dizenin bir karakteriyle değiştirildiği, ilk karakterden başlayarak sonuncusuna ulaştığı anlamına gelir. Döngü, dizedeki tüm karakterler yazdırıldığında tamamlanır ve kodumuz kaldığı yerden çalışmaya devam eder."
      ],
      "metadata": {
        "id": "ULQPUHMME4C-"
      }
    },
    {
      "cell_type": "code",
      "source": [
        "volcano_name = 'Eyjafjallajökull'\n",
        "\n",
        "for i in volcano_name:\n",
        "  print(i)\n",
        "print('Loop is completed')"
      ],
      "metadata": {
        "colab": {
          "base_uri": "https://localhost:8080/"
        },
        "id": "M8xhGd8y_EyK",
        "outputId": "a8caf3ca-9abf-4fb0-ef93-5f5b70972b4f"
      },
      "execution_count": null,
      "outputs": [
        {
          "output_type": "stream",
          "name": "stdout",
          "text": [
            "E\n",
            "y\n",
            "j\n",
            "a\n",
            "f\n",
            "j\n",
            "a\n",
            "l\n",
            "l\n",
            "a\n",
            "j\n",
            "ö\n",
            "k\n",
            "u\n",
            "l\n",
            "l\n",
            "Loop is completed\n"
          ]
        }
      ]
    },
    {
      "cell_type": "code",
      "source": [
        "numbers=[1,2,3,4,5,6,7,8,9,10]\n",
        "for i in numbers:\n",
        "  print(i)\n",
        "print(\"Loop is completed\")"
      ],
      "metadata": {
        "colab": {
          "base_uri": "https://localhost:8080/"
        },
        "id": "vHaULCtWFJJL",
        "outputId": "9042fa5f-5b6d-4ade-a04b-5c1c57792fc5"
      },
      "execution_count": null,
      "outputs": [
        {
          "output_type": "stream",
          "name": "stdout",
          "text": [
            "1\n",
            "2\n",
            "3\n",
            "4\n",
            "5\n",
            "6\n",
            "7\n",
            "8\n",
            "9\n",
            "10\n",
            "Loop is completed\n"
          ]
        }
      ]
    },
    {
      "cell_type": "markdown",
      "source": [
        "- Python'da sıralı bir sayı listesi üreten bir fonksiyonumuz var. Bu fonksiyona range() adı verilir.\n",
        "- 'Range' fonksiyonu bir sayı listesi oluşturur.\n",
        "\n",
        "Örneğin, range(10) 0'dan 9'a kadar bir sayı listesi oluşturur ve range(2, 20) 2'den 19'a kadar bir sayı listesi oluşturur.\n",
        "\n",
        "- Range(10) --> 0 to 9\n",
        "- Range(2,20) --> 2 to 19"
      ],
      "metadata": {
        "id": "dJSee05kF16s"
      }
    },
    {
      "cell_type": "code",
      "source": [
        "for i in range(1,11):\n",
        "  print(i)\n",
        "\n",
        "print(\"Loop is completed\")"
      ],
      "metadata": {
        "colab": {
          "base_uri": "https://localhost:8080/"
        },
        "id": "XGxO3oR0Fa9f",
        "outputId": "462833b7-026d-4c60-d8c3-f9c6283ed28d"
      },
      "execution_count": null,
      "outputs": [
        {
          "output_type": "stream",
          "name": "stdout",
          "text": [
            "1\n",
            "2\n",
            "3\n",
            "4\n",
            "5\n",
            "6\n",
            "7\n",
            "8\n",
            "9\n",
            "10\n",
            "Loop is completed\n"
          ]
        }
      ]
    },
    {
      "cell_type": "code",
      "source": [
        "for i in range(6,26):\n",
        "  print(i)\n",
        "print(\"Loop is completed.\")"
      ],
      "metadata": {
        "colab": {
          "base_uri": "https://localhost:8080/"
        },
        "id": "YKYRW2cuFqku",
        "outputId": "4d8287a7-d7a1-4dc1-e8f1-db342b3a5ad7"
      },
      "execution_count": null,
      "outputs": [
        {
          "output_type": "stream",
          "name": "stdout",
          "text": [
            "6\n",
            "7\n",
            "8\n",
            "9\n",
            "10\n",
            "11\n",
            "12\n",
            "13\n",
            "14\n",
            "15\n",
            "16\n",
            "17\n",
            "18\n",
            "19\n",
            "20\n",
            "21\n",
            "22\n",
            "23\n",
            "24\n",
            "25\n",
            "Loop is completed.\n"
          ]
        }
      ]
    },
    {
      "cell_type": "code",
      "source": [
        "#1 ile 100 arasında 5'e bölünebilen tüm sayıları listele Daha sonra bu listedeki tüm sayıları tek tek incelerken 5'e bölünebilenleri belirle\n",
        "for i in range(1,101):\n",
        "  if i%5==0:    #5'e bölümünden kalanların 0 olduğunu belirler.\n",
        "    print(i)\n",
        "print(\"Loop has been completed\")"
      ],
      "metadata": {
        "colab": {
          "base_uri": "https://localhost:8080/"
        },
        "id": "vxEJPtuYGIvA",
        "outputId": "b94536b8-dee7-40a0-e82c-1f5ba6d062a1"
      },
      "execution_count": null,
      "outputs": [
        {
          "output_type": "stream",
          "name": "stdout",
          "text": [
            "5\n",
            "10\n",
            "15\n",
            "20\n",
            "25\n",
            "30\n",
            "35\n",
            "40\n",
            "45\n",
            "50\n",
            "55\n",
            "60\n",
            "65\n",
            "70\n",
            "75\n",
            "80\n",
            "85\n",
            "90\n",
            "95\n",
            "100\n",
            "Loop has been completed\n"
          ]
        }
      ]
    },
    {
      "cell_type": "markdown",
      "source": [
        "‘For’ döngüleri, yinelemeli bir nesne üzerinde sınırlı sayıda tekrarlama içeren işlemler için kullanılır.\n",
        "\n",
        "- While Loops/Döngüsü: ‘While’ döngüsüyle, bir koşul doğru olduğu sürece bir döngü çalıştırabiliriz.\n"
      ],
      "metadata": {
        "id": "dAbFK3yCH9n2"
      }
    },
    {
      "cell_type": "code",
      "source": [
        "celcius=10\n",
        "\n",
        "if celcius>30:\n",
        "  print(\"Hot\")\n",
        "elif 30>= celcius > 20:\n",
        "  print(\"Good\")\n",
        "elif -273 < celcius <=20:\n",
        "  print(\"Cold\")\n",
        "else:\n",
        "  print(\"Something went wrong\")"
      ],
      "metadata": {
        "colab": {
          "base_uri": "https://localhost:8080/"
        },
        "id": "usS6aLYKITvf",
        "outputId": "60b46b9d-df59-4ab3-e545-b25174b8bc6a"
      },
      "execution_count": null,
      "outputs": [
        {
          "output_type": "stream",
          "name": "stdout",
          "text": [
            "Cold\n"
          ]
        }
      ]
    },
    {
      "cell_type": "code",
      "source": [
        "\"\"\"ÇALIŞTIRMA\"\"\"\n",
        "celcius = 10\n",
        "\n",
        "while celcius < 50:\n",
        "\n",
        "  if celcius > 30:\n",
        "    print('Hot 🔥')\n",
        "  elif 30 >= celcius > 20:\n",
        "    print('Good 🟩')\n",
        "  elif -273 < celcius <= 20:\n",
        "    print('Cold ❄️')\n",
        "  else:\n",
        "    print('Something went wrong!')"
      ],
      "metadata": {
        "id": "wDKn4PbrKDSe"
      },
      "execution_count": null,
      "outputs": []
    },
    {
      "cell_type": "code",
      "source": [
        "celcius = 10\n",
        "\n",
        "while celcius < 50:\n",
        "\n",
        "  if celcius > 30:\n",
        "    print('Hot 🔥')\n",
        "  elif 30 >= celcius > 20:\n",
        "    print('Good 🟩')\n",
        "  elif -273 < celcius <= 20:\n",
        "    print('Cold ❄️')\n",
        "  else:\n",
        "    print('Something went wrong!')\n",
        "  celcius += 5"
      ],
      "metadata": {
        "colab": {
          "base_uri": "https://localhost:8080/"
        },
        "id": "xuMRN6rIKZcN",
        "outputId": "b6f029a6-d002-4536-a042-3660b4d9b6c5"
      },
      "execution_count": null,
      "outputs": [
        {
          "output_type": "stream",
          "name": "stdout",
          "text": [
            "Cold ❄️\n",
            "Cold ❄️\n",
            "Cold ❄️\n",
            "Good 🟩\n",
            "Good 🟩\n",
            "Hot 🔥\n",
            "Hot 🔥\n",
            "Hot 🔥\n"
          ]
        }
      ]
    },
    {
      "cell_type": "code",
      "source": [
        "celcius = 10\n",
        "\n",
        "while celcius < 50:\n",
        "\n",
        "  if celcius > 30:\n",
        "    print('Hot 🔥')\n",
        "  elif 30 >= celcius > 20:\n",
        "    print('Good 🟩')\n",
        "  elif -273 < celcius <= 20:\n",
        "    print('Cold ❄️')\n",
        "  else:\n",
        "    print('Something went wrong!')\n",
        "  print('The current temperature is',celcius)\n",
        "  celcius += 5"
      ],
      "metadata": {
        "colab": {
          "base_uri": "https://localhost:8080/"
        },
        "id": "VXkdTvr8LcT9",
        "outputId": "58c5d8b3-62ef-482f-ddc8-5fa5cf2c1b1e"
      },
      "execution_count": null,
      "outputs": [
        {
          "output_type": "stream",
          "name": "stdout",
          "text": [
            "Cold ❄️\n",
            "The current temperature is 10\n",
            "Cold ❄️\n",
            "The current temperature is 15\n",
            "Cold ❄️\n",
            "The current temperature is 20\n",
            "Good 🟩\n",
            "The current temperature is 25\n",
            "Good 🟩\n",
            "The current temperature is 30\n",
            "Hot 🔥\n",
            "The current temperature is 35\n",
            "Hot 🔥\n",
            "The current temperature is 40\n",
            "Hot 🔥\n",
            "The current temperature is 45\n"
          ]
        }
      ]
    },
    {
      "cell_type": "code",
      "source": [
        "#1'er saniye farkla yazdır.\n",
        "import time\n",
        "celcius = 10\n",
        "\n",
        "while celcius < 50:\n",
        "\n",
        "  if celcius > 30:\n",
        "    print('Hot 🔥')\n",
        "  elif 30 >= celcius > 20:\n",
        "    print('Good 🟩')\n",
        "  elif -273 < celcius <= 20:\n",
        "    print('Cold ❄️')\n",
        "  else:\n",
        "    print('Something went wrong!')\n",
        "  print('The current temperature is',celcius)\n",
        "  celcius += 5\n",
        "  time.sleep(1)"
      ],
      "metadata": {
        "colab": {
          "base_uri": "https://localhost:8080/"
        },
        "id": "vWixHcX-M0Ab",
        "outputId": "5be1d5bd-28bd-4591-fbb8-7be5cc29c66d"
      },
      "execution_count": null,
      "outputs": [
        {
          "output_type": "stream",
          "name": "stdout",
          "text": [
            "Cold ❄️\n",
            "The current temperature is 10\n",
            "Cold ❄️\n",
            "The current temperature is 15\n",
            "Cold ❄️\n",
            "The current temperature is 20\n",
            "Good 🟩\n",
            "The current temperature is 25\n",
            "Good 🟩\n",
            "The current temperature is 30\n",
            "Hot 🔥\n",
            "The current temperature is 35\n",
            "Hot 🔥\n",
            "The current temperature is 40\n",
            "Hot 🔥\n",
            "The current temperature is 45\n"
          ]
        }
      ]
    },
    {
      "cell_type": "code",
      "source": [
        "#3'er saniye farkla yazdır.\n",
        "import time\n",
        "celcius = 10\n",
        "\n",
        "while celcius < 50:\n",
        "\n",
        "  if celcius > 30:\n",
        "    print('Hot 🔥')\n",
        "  elif 30 >= celcius > 20:\n",
        "    print('Good 🟩')\n",
        "  elif -273 < celcius <= 20:\n",
        "    print('Cold ❄️')\n",
        "  else:\n",
        "    print('Something went wrong!')\n",
        "  print('The current temperature is',celcius)\n",
        "  celcius += 5\n",
        "  time.sleep(3)"
      ],
      "metadata": {
        "colab": {
          "base_uri": "https://localhost:8080/"
        },
        "id": "50zUMs4QNDci",
        "outputId": "8d03bb26-0254-47a9-db1c-335e41fb949f"
      },
      "execution_count": null,
      "outputs": [
        {
          "output_type": "stream",
          "name": "stdout",
          "text": [
            "Cold ❄️\n",
            "The current temperature is 10\n",
            "Cold ❄️\n",
            "The current temperature is 15\n",
            "Cold ❄️\n",
            "The current temperature is 20\n",
            "Good 🟩\n",
            "The current temperature is 25\n",
            "Good 🟩\n",
            "The current temperature is 30\n",
            "Hot 🔥\n",
            "The current temperature is 35\n",
            "Hot 🔥\n",
            "The current temperature is 40\n",
            "Hot 🔥\n",
            "The current temperature is 45\n"
          ]
        }
      ]
    },
    {
      "cell_type": "markdown",
      "source": [
        "# Break infinite loops\n",
        "\n",
        "Belirli koşullarda program kendini durdurmalı veya bunu yapmamıza izin vermelidir. Bunun için \"'break'\" adlı bir komutumuz var."
      ],
      "metadata": {
        "id": "LDtroeA5PWLB"
      }
    },
    {
      "cell_type": "code",
      "source": [
        "\"\"\"ÇALIŞTIRMA\"\"\"\n",
        "while True:\n",
        "  print('I love you!')"
      ],
      "metadata": {
        "id": "iDDic00LPvKr"
      },
      "execution_count": null,
      "outputs": []
    },
    {
      "cell_type": "code",
      "source": [
        "\"\"\"ÇALIŞTIRMA\"\"\"\n",
        "import time\n",
        "counter = 0\n",
        "\n",
        "while counter >= 0:\n",
        "  counter += 1\n",
        "\n",
        "  print(counter)\n",
        "  time.sleep(1)"
      ],
      "metadata": {
        "id": "NXbm4yFnP2ay"
      },
      "execution_count": null,
      "outputs": []
    },
    {
      "cell_type": "code",
      "source": [
        "import random\n",
        "import time\n",
        "while True: #bu sonsuz döngü yaratır.\n",
        "\n",
        "    random_number = random.randrange(1000)\n",
        "    print(random_number)\n",
        "\n",
        "    if random_number == 777:\n",
        "        print('Found!')\n",
        "        break\n",
        "    time.sleep(1)"
      ],
      "metadata": {
        "colab": {
          "base_uri": "https://localhost:8080/"
        },
        "id": "KTcPzTRqQcj9",
        "outputId": "5143e2f5-fba2-4ec0-f564-c632ab555ee6"
      },
      "execution_count": null,
      "outputs": [
        {
          "output_type": "stream",
          "name": "stdout",
          "text": [
            "727\n",
            "699\n",
            "426\n",
            "140\n",
            "904\n",
            "420\n",
            "396\n",
            "777\n",
            "Found!\n"
          ]
        }
      ]
    },
    {
      "cell_type": "markdown",
      "source": [
        "Öğrencilerimizin isimlerini tuttuğumuz bir liste var, ancak bilgisayarımızdaki bir virüs nedeniyle bu listedeki değerlerden biri string'den tam sayı değerine değiştirildi! Bu string olmayan değeri bulmak ve ekrana yazdırmak için hemen bir program yazmalıyız. Gördüğünüz gibi type() fonksiyonu 26'ya ulaştığında, bunun string türünde bir veri olmadığını anlar ve döngü durdurulur."
      ],
      "metadata": {
        "id": "ElI2WY2qRhCv"
      }
    },
    {
      "cell_type": "code",
      "source": [
        "names = ['Max', 'Felix', 'Deniz', 'Selin', 'Lucas', 26, 'Sarah']\n",
        "\n",
        "for name in names:\n",
        "\n",
        "    if type(name) != str:\n",
        "        print('Found', name)\n",
        "        break\n",
        "\n",
        "    else:\n",
        "        print(name, 'is a string!')"
      ],
      "metadata": {
        "colab": {
          "base_uri": "https://localhost:8080/"
        },
        "id": "ZAZPgf_ARBtp",
        "outputId": "acdaa1c7-b637-4e05-e124-30e4368c95f6"
      },
      "execution_count": null,
      "outputs": [
        {
          "output_type": "stream",
          "name": "stdout",
          "text": [
            "Max is a string!\n",
            "Felix is a string!\n",
            "Deniz is a string!\n",
            "Selin is a string!\n",
            "Lucas is a string!\n",
            "Found 26\n"
          ]
        }
      ]
    },
    {
      "cell_type": "markdown",
      "source": [
        "#Practical exercise 2: You are a game developer :)"
      ],
      "metadata": {
        "id": "FrSy47izScbo"
      }
    },
    {
      "cell_type": "markdown",
      "source": [],
      "metadata": {
        "id": "o-RI9uXqskQD"
      }
    },
    {
      "cell_type": "code",
      "source": [
        "#Please create a list containing the three actions of the game.\n",
        "players=[\"Merve\", \"Murat\", \"Meso\", \"Hardal\", \"Gofret\"]\n",
        "game=[\"rock\", \"scissor\", \"paper\"]"
      ],
      "metadata": {
        "id": "H9pT_Yyssq43"
      },
      "execution_count": null,
      "outputs": []
    },
    {
      "cell_type": "markdown",
      "source": [
        "Choose an action\n",
        "Now you have the list with the actions ready. The next step is to let Python randomly choose an action from this list. Each player has to make a choice, so Python has to make a choice for player 1 and another one for player 2.\n",
        "\n",
        "📌The built-in module \"random\" can help you with this. As you might remember from previous lessons you can use the .randint() method to generate random numbers.\n",
        "\n",
        "📌📌There is another method in the random module called .choice(). It takes a list as input and selects an item randomly from that list."
      ],
      "metadata": {
        "id": "zmd7tIyltL3g"
      }
    },
    {
      "cell_type": "code",
      "source": [
        "#Import the random library\n",
        "players=[\"Merve\", \"Murat\", \"Meso\", \"Hardal\", \"Gofret\"]\n",
        "game=[\"rock\", \"scissor\", \"paper\"]\n",
        "\n",
        "import random\n",
        "a=random.randint(0,2)\n",
        "b=random.randint(0,2)\n",
        "\n",
        "game_random=players[a]\n",
        "player_random=game[b]\n",
        "\n",
        "print(game_random)\n",
        "print(player_random)\n",
        "\n",
        "\n",
        "#Select a random action for each player\n",
        "\n",
        "\n",
        "#Use the print function to print the players choices\n"
      ],
      "metadata": {
        "colab": {
          "base_uri": "https://localhost:8080/"
        },
        "id": "6Urz07idtM-F",
        "outputId": "3604af72-eb8f-4a37-dd07-e1b2e0ad122b"
      },
      "execution_count": null,
      "outputs": [
        {
          "output_type": "stream",
          "name": "stdout",
          "text": [
            "Merve\n",
            "paper\n"
          ]
        }
      ]
    },
    {
      "cell_type": "markdown",
      "source": [
        "# Functions/Fonksiyonlar:\n",
        "- Fonksiyonlar programlarımızın daha sistematik ve okunması daha kolay hale gelmesine yardımcı olur. Program yazmaya başladığınızda, ne kadar çok kod satırınız varsa programınızın o kadar karmaşık hale gelir.\n",
        "\n",
        "- Programı her zaman daha küçük ve modüler parçalara bölmek faydalıdır. Bu, belirli kod parçalarını hem yeniden kullanılabilir hem de yönetilmesi daha kolay hale getirir. Bu şekilde, aynı talimatları tekrar tekrar yazmak zorunda kalınmaz.\n",
        "\n",
        "- ilk fonksiyonlardan biri, dize biçimli sayıları tam sayılara dönüştüren int() fonksiyonu. Bu fonksiyon değerleri ekrana yazdırır.\n",
        "\n",
        "- Basitçe söylemek gerekirse, fonksiyonlar belirli görevleri gerçekleştiren küçük kod parçalarıdır.\n",
        "\n",
        "- Python ayrıca bize kullanıcı tanımlı fonksiyonlar oluşturma fırsatı da verir. Aynı kodu tekrar tekrar yazmak yerine, bir fonksiyon tanımlayabilir ve ihtiyaç duyduğumuzda çağırabiliriz."
      ],
      "metadata": {
        "id": "qPHnkT451ZaB"
      }
    },
    {
      "cell_type": "code",
      "source": [
        "number = '15'\n",
        "print('Type of number before int() function: ', type(number))\n",
        "\n",
        "number = int(number)\n",
        "\n",
        "print('Type of number after int() function: ', type(number))"
      ],
      "metadata": {
        "colab": {
          "base_uri": "https://localhost:8080/"
        },
        "id": "lHPVvwcYJGEl",
        "outputId": "0bd2c9cb-833e-49ec-bc61-ae9dc323e585"
      },
      "execution_count": null,
      "outputs": [
        {
          "output_type": "stream",
          "name": "stdout",
          "text": [
            "Type of number before int() function:  <class 'str'>\n",
            "Type of number after int() function:  <class 'int'>\n"
          ]
        }
      ]
    },
    {
      "cell_type": "markdown",
      "source": [
        "- **Fonsiyon Tanımlama:**\n",
        "Fonksiyon tanımlarken, önce \"def\" anahtar kelimesini ve ardından fonksiyonun amacına uygun bir isim yazarız. Ayrıca parantez içinde bir argüman da belirtiriz.\n"
      ],
      "metadata": {
        "id": "6PUc0btMIzbh"
      }
    },
    {
      "cell_type": "code",
      "source": [
        "def hello(name):  #hello fonksiyon adı. name ise argüman.\n",
        "  print(\"Hello\", name)   #argümanlar fonksiyonlara değer vermek için kullnaılır."
      ],
      "metadata": {
        "colab": {
          "base_uri": "https://localhost:8080/"
        },
        "id": "J2ZCPBhPJSKt",
        "outputId": "03040ea4-1b4a-4478-8686-16a1e3e83374"
      },
      "execution_count": null,
      "outputs": [
        {
          "output_type": "stream",
          "name": "stdout",
          "text": [
            "Hello Deniz\n"
          ]
        }
      ]
    },
    {
      "cell_type": "code",
      "source": [
        "hello(\"Deniz\")   #Parantez içindeki \"name\" argümanı yerine, argümanın tutmasını istediğimiz değeri ekliyoruz."
      ],
      "metadata": {
        "colab": {
          "base_uri": "https://localhost:8080/"
        },
        "id": "IwiKmIq0Jd79",
        "outputId": "c6fcdb91-3e8a-463c-fbc5-14523cccc67c"
      },
      "execution_count": null,
      "outputs": [
        {
          "output_type": "stream",
          "name": "stdout",
          "text": [
            "Hello Deniz\n"
          ]
        }
      ]
    },
    {
      "cell_type": "markdown",
      "source": [
        "- Birden fazla argümana sahip fonksiyonlarımız da olabilir. Tüm argümanları parantez içine ekleyip virgülle ayırabiliriz."
      ],
      "metadata": {
        "id": "DpKi8VsHtRS_"
      }
    },
    {
      "cell_type": "markdown",
      "source": [
        "Örneğin, aşağıda iki sayıyı toplayan bir fonksiyon tanımlıyoruz. Bu fonksiyonu çağırdığımızda, fonksiyon adından sonra iki sayıyı yazıyoruz, diyelim ki 3 ve 5. Ve bu kodu çalıştırdığımızda, ekrana 8 sayısı yazdırılıyor. Fonksiyonumuz planlandığı gibi çalıştı."
      ],
      "metadata": {
        "id": "-ZdyAFExtpB-"
      }
    },
    {
      "cell_type": "code",
      "source": [
        "def sum(number1, number2):\n",
        "  print(number1+number2)"
      ],
      "metadata": {
        "id": "WtmpwYKOtT4P"
      },
      "execution_count": null,
      "outputs": []
    },
    {
      "cell_type": "code",
      "source": [
        "sum(3,5)"
      ],
      "metadata": {
        "colab": {
          "base_uri": "https://localhost:8080/"
        },
        "id": "KetRX8ActdEI",
        "outputId": "a7b1619f-004a-4ae8-d6e6-d9e7869c84ff"
      },
      "execution_count": null,
      "outputs": [
        {
          "output_type": "stream",
          "name": "stdout",
          "text": [
            "8\n"
          ]
        }
      ]
    },
    {
      "cell_type": "markdown",
      "source": [
        "- Şimdiye kadar sadece değerleri ekrana yazdırdık, sonucu kullanmak istiyorsak ne yapmamız gerekiyor?\n",
        "\n"
      ],
      "metadata": {
        "id": "Cr3pAd-FtxPB"
      }
    },
    {
      "cell_type": "code",
      "source": [
        "result=sum(3,5)\n",
        "print(result)"
      ],
      "metadata": {
        "colab": {
          "base_uri": "https://localhost:8080/"
        },
        "id": "Yf_3ay5tuA3T",
        "outputId": "cb4ba636-0537-4682-cd58-bcd9647305bf"
      },
      "execution_count": null,
      "outputs": [
        {
          "output_type": "stream",
          "name": "stdout",
          "text": [
            "8\n",
            "None\n"
          ]
        }
      ]
    },
    {
      "cell_type": "markdown",
      "source": [
        "Burada bir sorun var, beklenen sonucu alamadık. İfadenin çıktısı olarak “8” ve “None” alıyoruz. Aslında, burada ilk sonucumuz hala 8. Fonksiyon dışındaki print ifadesi nedeniyle, “None” sonucunu da alıyoruz. Burada \"Hiçbiri\", bu çıktıyı kodumuzda daha fazla kullanamayacağımız anlamına gelir. Çıktıyı kodumuzda kullanabilmek için \"return\" anahtar sözcüğünü kullanmamız gerekir."
      ],
      "metadata": {
        "id": "lxzR_txMuBUm"
      }
    },
    {
      "cell_type": "markdown",
      "source": [
        "\"return\" anahtar sözcüğü, çağrıldığında hesaplanan değerleri işlev içinde dışa aktaracak bir kapı oluşturur. Bu şekilde, işlevi her çalıştırdığımızda sayılar hesaplanacak ve dışa aktarılacak, böylece bir değişkene kaydedip kullanabiliriz."
      ],
      "metadata": {
        "id": "AI4TtIdIuPIL"
      }
    },
    {
      "cell_type": "code",
      "source": [
        "def sum(number1, number2):\n",
        "  answer=number1 +number2\n",
        "  return answer\n",
        "\n",
        "result=sum(3,5)\n",
        "print(result)"
      ],
      "metadata": {
        "colab": {
          "base_uri": "https://localhost:8080/"
        },
        "id": "sjAocawuuSFv",
        "outputId": "3df5aba5-824e-4b2a-b411-7401e31f27bf"
      },
      "execution_count": null,
      "outputs": [
        {
          "output_type": "stream",
          "name": "stdout",
          "text": [
            "8\n"
          ]
        }
      ]
    },
    {
      "cell_type": "markdown",
      "source": [
        "- Arguments, Scopes/Argümanlar, Kapsamlar:\n",
        "\n",
        "Argümanlar: Argümanlar çağrıldıklarında fonksiyonlara değer vermek için kullanılır. Fonksiyonların bir veya daha fazla argümana sahip olabileceğini de biliyoruz. Birden fazla argümanımız olduğunda, bunları virgülle ayırırız.\n",
        "\n"
      ],
      "metadata": {
        "id": "vsCPPnH_A4fr"
      }
    },
    {
      "cell_type": "code",
      "source": [
        "def argument_printer(arg_position1, arg_position2):\n",
        "  print(\"Argument at position 1:\", arg_position1)\n",
        "  print(\"Argument at position 2:\", arg_position2)"
      ],
      "metadata": {
        "id": "SwRxfEM5Bdbz"
      },
      "execution_count": null,
      "outputs": []
    },
    {
      "cell_type": "markdown",
      "source": [
        "Argümanları konumlarına göre senkronize etmeye konumsal argüman denir."
      ],
      "metadata": {
        "id": "6SJCNfZSCxQR"
      }
    },
    {
      "cell_type": "code",
      "source": [
        "argument_printer('value 1', 'value 2')"
      ],
      "metadata": {
        "colab": {
          "base_uri": "https://localhost:8080/"
        },
        "id": "hXpmJI7oCANx",
        "outputId": "28c40b87-31dd-4c2a-ad1a-6ac2d38dfafe"
      },
      "execution_count": null,
      "outputs": [
        {
          "output_type": "stream",
          "name": "stdout",
          "text": [
            "Argument at position 1: value 1\n",
            "Argument at position 2: value 2\n"
          ]
        }
      ]
    },
    {
      "cell_type": "code",
      "source": [
        "def greetings(first_name, last_name, auto_correction):\n",
        "  if auto_correction==True:\n",
        "    capitalized_first_name=first_name.capitalize()\n",
        "    capitalized_last_name=last_name.capitalize()\n",
        "    print(\"Hello,\", capitalized_first_name, capitalized_last_name)\n",
        "  else:\n",
        "    print(\"Hello,\", first_name, last_name)"
      ],
      "metadata": {
        "id": "XQ0_49xhDEW3"
      },
      "execution_count": null,
      "outputs": []
    },
    {
      "cell_type": "code",
      "source": [
        "greetings(\"meRve\", \"muRAT\", True)"
      ],
      "metadata": {
        "colab": {
          "base_uri": "https://localhost:8080/"
        },
        "id": "gU9nKaCWEUg8",
        "outputId": "eb091d6e-dd4e-4e72-ab83-2acf521b6a85"
      },
      "execution_count": null,
      "outputs": [
        {
          "output_type": "stream",
          "name": "stdout",
          "text": [
            "Hello, Merve Murat\n"
          ]
        }
      ]
    },
    {
      "cell_type": "code",
      "source": [
        "greetings(\"merVE\", \"MuRAT\", False)"
      ],
      "metadata": {
        "colab": {
          "base_uri": "https://localhost:8080/"
        },
        "id": "ECFOXmNeEzeV",
        "outputId": "7c41eaba-4e57-40f4-b6d4-69bbc385808a"
      },
      "execution_count": null,
      "outputs": [
        {
          "output_type": "stream",
          "name": "stdout",
          "text": [
            "Hello, merVE MuRAT\n"
          ]
        }
      ]
    },
    {
      "cell_type": "markdown",
      "source": [
        "“capitalize()” yöntemi ad ve soyadının ilk harflerini büyük harfe çevirecektir."
      ],
      "metadata": {
        "id": "OJaM15U5FOgv"
      }
    },
    {
      "cell_type": "code",
      "source": [
        "\"\"\"Python'da bir fonksiyonu tanımlarken argümanlara varsayılan değerler de verebiliriz.\"\"\""
      ],
      "metadata": {
        "id": "WJYbvTfwFPko"
      },
      "execution_count": null,
      "outputs": []
    },
    {
      "cell_type": "code",
      "source": [
        "def greeting(first_name, last_name, auto_correction=True):\n",
        "  if auto_correction==True:\n",
        "    capitalized_first_name=first_name.capitalize()\n",
        "    capitalized_last_name=last_name.capitalize()\n",
        "    print(\"Hello,\", capitalized_first_name, capitalized_last_name)\n",
        "  else:\n",
        "    print(\"Hello,\", first_name, last_name)"
      ],
      "metadata": {
        "id": "flFy2DCiFbCr"
      },
      "execution_count": null,
      "outputs": []
    },
    {
      "cell_type": "code",
      "source": [
        "greeting(\"merVE\",\"MuRAT\")"
      ],
      "metadata": {
        "colab": {
          "base_uri": "https://localhost:8080/"
        },
        "id": "Vc30wiSYGW2m",
        "outputId": "894a4d09-b67d-467d-f53b-dbf72da42548"
      },
      "execution_count": null,
      "outputs": [
        {
          "output_type": "stream",
          "name": "stdout",
          "text": [
            "Hello, Merve Murat\n"
          ]
        }
      ]
    },
    {
      "cell_type": "code",
      "source": [
        "def car(brand, model, colour):\n",
        "  print(\"My favourite car is the\", brand, model, \"in the colour\", colour)"
      ],
      "metadata": {
        "id": "ESnd22NuPLuT"
      },
      "execution_count": null,
      "outputs": []
    },
    {
      "cell_type": "code",
      "source": [
        "car(\"Renault\", \"Clio\", \"white\")"
      ],
      "metadata": {
        "colab": {
          "base_uri": "https://localhost:8080/"
        },
        "id": "rMN9YWplPaJJ",
        "outputId": "5af606da-244a-44ed-fc65-685057c58de3"
      },
      "execution_count": null,
      "outputs": [
        {
          "output_type": "stream",
          "name": "stdout",
          "text": [
            "My favourite car is the Renault Clio in the colour white\n"
          ]
        }
      ]
    },
    {
      "cell_type": "code",
      "source": [
        "car(colour=\"white\", model=\"Clio\", brand=\"Reneult\")"
      ],
      "metadata": {
        "colab": {
          "base_uri": "https://localhost:8080/"
        },
        "id": "D0uudo4xP7V2",
        "outputId": "1c8b7c6c-a8df-440b-cb46-8340461f9d65"
      },
      "execution_count": null,
      "outputs": [
        {
          "output_type": "stream",
          "name": "stdout",
          "text": [
            "My favourite car is the Reneult Clio in the colour white\n"
          ]
        }
      ]
    },
    {
      "cell_type": "markdown",
      "source": [
        "Fonksiyonlar yerel kapsamlar yaratır.\n",
        "\n",
        "Örneğin:İlk olarak, \"number\" adlı bir değişkene 13 değerini atarız. Daha sonra, \"number\" değerini 4 olarak değiştiren \"change_number\" adlı bir fonksiyon tanımlarız. Bundan sonra, fonksiyonu çağırırız ve son olarak \"number\" değeri yazdırılır. Çıktımız 13 olacak, ama neden? Daha önce söylediklerimi hatırlayalım. Yerel kapsamda tanımlanan değişkenlere yalnızca kendi bölgelerinde erişilebilir. change_number fonksiyonumuz yerel bir kapsamdır!\n",
        "\n",
        "Yani iki değişkeni bir olarak görmemize rağmen, Python, kapsamından çıktıktan sonra fonksiyon içindeki değişkeni görmez. Daha sonra yalnızca global kapsamdaki değişkeni dikkate alır.\n",
        "\n"
      ],
      "metadata": {
        "id": "rC2OJsSVp2sB"
      }
    },
    {
      "cell_type": "code",
      "source": [
        "number=13 #global variable\n",
        "\n",
        "def change_number():\n",
        "  number=4 #local variable\n",
        "\n",
        "change_number()\n",
        "print(number)"
      ],
      "metadata": {
        "colab": {
          "base_uri": "https://localhost:8080/"
        },
        "id": "6SVuP5BdqqAm",
        "outputId": "bb403157-5137-42e2-8734-80888b614915"
      },
      "execution_count": null,
      "outputs": [
        {
          "output_type": "stream",
          "name": "stdout",
          "text": [
            "13\n"
          ]
        }
      ]
    },
    {
      "cell_type": "code",
      "source": [
        "number=13 ----------> Global değeri gizlersek ve def'ten sonra global atarsak\n",
        "\n",
        "def change_number():\n",
        "  global number\n",
        "  number=4 #local variable\n",
        "\n",
        "change_number()\n",
        "print(number)"
      ],
      "metadata": {
        "id": "OZjUFYXnsFEI"
      },
      "execution_count": null,
      "outputs": []
    },
    {
      "cell_type": "markdown",
      "source": [
        "- Modules/Modüller Kütüphaneler:\n",
        "Modüller .py uzantısına sahiptir.\n",
        "\n",
        "- Kendi modüllerimizi de oluşturabiliriz. Bunun için bir .py dosyası oluşturmamız gerekiyor, buna \"test.py\" diyelim. İçine modülümüzün kodunu yazıyoruz. Basit tutmak için, burada yalnızca ekrana 'Hello' ve bir ad yazdırmak için kısa bir fonksiyon tanımlıyoruz. Daha sonra geçerli dizine kaydedildiğinden emin olmamız gerekir. Ana programımıza geri dönelim. Daha önce birçok kez yaptığımız gibi, önce modülümüzü içe aktarırız."
      ],
      "metadata": {
        "id": "aK4n49qDCz7T"
      }
    },
    {
      "cell_type": "code",
      "source": [
        "import test"
      ],
      "metadata": {
        "id": "27Xa0ZodDUBJ"
      },
      "execution_count": 1,
      "outputs": []
    },
    {
      "cell_type": "code",
      "source": [
        "test.greetings(\"Merve\")"
      ],
      "metadata": {
        "colab": {
          "base_uri": "https://localhost:8080/"
        },
        "id": "qjot2JQbFD_p",
        "outputId": "8a232714-89a4-46ef-9dde-8d6bcff62ec8"
      },
      "execution_count": 2,
      "outputs": [
        {
          "output_type": "stream",
          "name": "stdout",
          "text": [
            "Hello Merve\n"
          ]
        }
      ]
    },
    {
      "cell_type": "markdown",
      "source": [
        "- Kütüphane Oluşturma ve İmport Etme:\n",
        "\n",
        "Seaborn kütüphanesi. Bu kütüphane istatistiksel grafikler oluşturmamızı sağlar ve veri görselleştirmede oldukça popülerdir. Öncelikle kütüphaneyi kurmamız gerekir. Bunu yapmak için “!pip install” ve ardından kütüphanenin adını yazarız."
      ],
      "metadata": {
        "id": "WpSthKY1Hoxg"
      }
    },
    {
      "cell_type": "code",
      "source": [
        "!pip install seaborn #!pip ile  yeni kütüphane ekleriz ve import ile de mevcut kütüphaneyi kullanabilmemiz için çağırırız."
      ],
      "metadata": {
        "colab": {
          "base_uri": "https://localhost:8080/"
        },
        "id": "_ZgC2THNH4Nt",
        "outputId": "deefa416-e6d4-4960-b762-df3ce3777581"
      },
      "execution_count": 3,
      "outputs": [
        {
          "output_type": "stream",
          "name": "stdout",
          "text": [
            "Requirement already satisfied: seaborn in /usr/local/lib/python3.10/dist-packages (0.13.1)\n",
            "Requirement already satisfied: numpy!=1.24.0,>=1.20 in /usr/local/lib/python3.10/dist-packages (from seaborn) (1.26.4)\n",
            "Requirement already satisfied: pandas>=1.2 in /usr/local/lib/python3.10/dist-packages (from seaborn) (2.1.4)\n",
            "Requirement already satisfied: matplotlib!=3.6.1,>=3.4 in /usr/local/lib/python3.10/dist-packages (from seaborn) (3.7.1)\n",
            "Requirement already satisfied: contourpy>=1.0.1 in /usr/local/lib/python3.10/dist-packages (from matplotlib!=3.6.1,>=3.4->seaborn) (1.2.1)\n",
            "Requirement already satisfied: cycler>=0.10 in /usr/local/lib/python3.10/dist-packages (from matplotlib!=3.6.1,>=3.4->seaborn) (0.12.1)\n",
            "Requirement already satisfied: fonttools>=4.22.0 in /usr/local/lib/python3.10/dist-packages (from matplotlib!=3.6.1,>=3.4->seaborn) (4.53.1)\n",
            "Requirement already satisfied: kiwisolver>=1.0.1 in /usr/local/lib/python3.10/dist-packages (from matplotlib!=3.6.1,>=3.4->seaborn) (1.4.5)\n",
            "Requirement already satisfied: packaging>=20.0 in /usr/local/lib/python3.10/dist-packages (from matplotlib!=3.6.1,>=3.4->seaborn) (24.1)\n",
            "Requirement already satisfied: pillow>=6.2.0 in /usr/local/lib/python3.10/dist-packages (from matplotlib!=3.6.1,>=3.4->seaborn) (9.4.0)\n",
            "Requirement already satisfied: pyparsing>=2.3.1 in /usr/local/lib/python3.10/dist-packages (from matplotlib!=3.6.1,>=3.4->seaborn) (3.1.2)\n",
            "Requirement already satisfied: python-dateutil>=2.7 in /usr/local/lib/python3.10/dist-packages (from matplotlib!=3.6.1,>=3.4->seaborn) (2.8.2)\n",
            "Requirement already satisfied: pytz>=2020.1 in /usr/local/lib/python3.10/dist-packages (from pandas>=1.2->seaborn) (2024.1)\n",
            "Requirement already satisfied: tzdata>=2022.1 in /usr/local/lib/python3.10/dist-packages (from pandas>=1.2->seaborn) (2024.1)\n",
            "Requirement already satisfied: six>=1.5 in /usr/local/lib/python3.10/dist-packages (from python-dateutil>=2.7->matplotlib!=3.6.1,>=3.4->seaborn) (1.16.0)\n"
          ]
        }
      ]
    },
    {
      "cell_type": "code",
      "source": [
        "import seaborn as sns  #as kullanarak kısaltma kullanırız böylece bir sonrakiler için uzun uzun yazmamıza gerek kalmaz."
      ],
      "metadata": {
        "id": "KknzD8AvIRXc"
      },
      "execution_count": null,
      "outputs": []
    },
    {
      "cell_type": "code",
      "source": [
        "import seaborn as sns\n",
        "\n",
        "data=[1,2,10,3,5,6,13]\n",
        "\n",
        "sns.lineplot(data)"
      ],
      "metadata": {
        "colab": {
          "base_uri": "https://localhost:8080/",
          "height": 447
        },
        "id": "NvNYacgDIbZW",
        "outputId": "2a84cc1c-1f34-460e-91de-2f3e21ae17e6"
      },
      "execution_count": 5,
      "outputs": [
        {
          "output_type": "execute_result",
          "data": {
            "text/plain": [
              "<Axes: >"
            ]
          },
          "metadata": {},
          "execution_count": 5
        },
        {
          "output_type": "display_data",
          "data": {
            "text/plain": [
              "<Figure size 640x480 with 1 Axes>"
            ],
            "image/png": "[encoded data removed]"
          },
          "metadata": {}
        }
      ]
    },
    {
      "cell_type": "markdown",
      "source": [
        "# Data structures:"
      ],
      "metadata": {
        "id": "4_KN3o5TPZKY"
      }
    },
    {
      "cell_type": "markdown",
      "source": [
        "- Lists, Tuples, and Dictionaries:\n",
        "\n",
        "- Lists:\n",
        "\n",
        "Listeler değiştirilebilir veri türleridir, yani oluşturulduktan sonra bile öğeleri değiştirebilir, ekleyebilir ve kaldırabiliriz. Python'da listelerle çalışmak için birçok yerleşik yöntem vardır. Örneğin, bir öğe eklemek istediğimizde, append yöntemini kullanabiliriz.\n"
      ],
      "metadata": {
        "id": "wae9FYIeP8CD"
      }
    },
    {
      "cell_type": "code",
      "source": [
        "shopping_list=[\"elma\", \"kivi\", \"ananas\", \"et\"]\n",
        "print(shopping_list)"
      ],
      "metadata": {
        "colab": {
          "base_uri": "https://localhost:8080/"
        },
        "id": "wUz1TOKwTQ0I",
        "outputId": "cd1b815c-3aee-4ee3-d47c-ff0b310fc665"
      },
      "execution_count": 6,
      "outputs": [
        {
          "output_type": "stream",
          "name": "stdout",
          "text": [
            "['elma', 'kivi', 'ananas', 'et']\n"
          ]
        }
      ]
    },
    {
      "cell_type": "code",
      "source": [
        "#append yöntemi öğeyi listenin sonuna ekler.\n",
        "shopping_list.append(\"tatlı\") #eğer bir koordinasyon belirtmezsek listenin sonuna ekler.\n",
        "print(shopping_list)"
      ],
      "metadata": {
        "colab": {
          "base_uri": "https://localhost:8080/"
        },
        "id": "Wfhi3aypTi4c",
        "outputId": "14b42275-4640-40e3-9381-63dbb6aee315"
      },
      "execution_count": 7,
      "outputs": [
        {
          "output_type": "stream",
          "name": "stdout",
          "text": [
            "['elma', 'kivi', 'ananas', 'et', 'tatlı']\n"
          ]
        }
      ]
    },
    {
      "cell_type": "markdown",
      "source": [
        "Eklenen verileri belli bir yere gelmesini istersek koordinasyonlarını kullanmalıyız. Koordinasyonlar 0,1,2,3,... şeklinde ilerler."
      ],
      "metadata": {
        "id": "omBDRfH1Tzak"
      }
    },
    {
      "cell_type": "code",
      "source": [
        "#normalde 2.koordinasyonda ananas vardı. ıslak mendili 2ye ekleyince ananas 3.koordinasyona kaydı.\n",
        "shopping_list=[\"elma\", \"kivi\", \"ananas\", \"et\", \"tatlı\"]\n",
        "shopping_list.insert(2,\"ıslak mendil\")\n",
        "print(shopping_list)"
      ],
      "metadata": {
        "colab": {
          "base_uri": "https://localhost:8080/"
        },
        "id": "mOLGbQILT-xQ",
        "outputId": "65b79066-9dc3-4c8b-bba4-2ce3d79b4ce2"
      },
      "execution_count": 8,
      "outputs": [
        {
          "output_type": "stream",
          "name": "stdout",
          "text": [
            "['elma', 'kivi', 'ıslak mendil', 'ananas', 'et', 'tatlı']\n"
          ]
        }
      ]
    },
    {
      "cell_type": "code",
      "source": [
        "#listelerden ürün silme işlemi:\n",
        "shopping_list=[\"elma\", \"kivi\", \"ananas\", \"et\", \"tatlı\"]\n",
        "shopping_list.remove(\"tatlı\")\n",
        "print(shopping_list)"
      ],
      "metadata": {
        "colab": {
          "base_uri": "https://localhost:8080/"
        },
        "id": "L3gh2RQXUd2I",
        "outputId": "c8c84420-0e6e-42ef-9995-0759be24c81f"
      },
      "execution_count": 9,
      "outputs": [
        {
          "output_type": "stream",
          "name": "stdout",
          "text": [
            "['elma', 'kivi', 'ananas', 'et']\n"
          ]
        }
      ]
    },
    {
      "cell_type": "code",
      "source": [
        "#listelerden ürün değiştirme işlemi: et ile tavuku değiştirelim.\n",
        "shopping_list=[\"elma\", \"kivi\", \"ananas\", \"et\", \"tatlı\"]\n",
        "shopping_list[3]=\"tavuk\"\n",
        "print(shopping_list)"
      ],
      "metadata": {
        "colab": {
          "base_uri": "https://localhost:8080/"
        },
        "id": "gK-hQK4LUud5",
        "outputId": "7d8775ea-77ac-4848-fb8e-5a8a3f96a2b2"
      },
      "execution_count": 10,
      "outputs": [
        {
          "output_type": "stream",
          "name": "stdout",
          "text": [
            "['elma', 'kivi', 'ananas', 'tavuk', 'tatlı']\n"
          ]
        }
      ]
    },
    {
      "cell_type": "markdown",
      "source": [
        "- Var olan listenin değerlerine göre yeni liste oluşturmak istersek:\n"
      ],
      "metadata": {
        "id": "Na7I_DX-VLUB"
      }
    },
    {
      "cell_type": "markdown",
      "source": [
        "Örn:\n",
        "\n",
        "Diyelim ki bir sayı listeniz var ve her bir öğenin karelerini yeni bir listede toplamak istiyorsunuz. Listeler, üzerinde döngü kurabileceğimiz nesneler, yani yinelemeli nesneler olduğundan, bir for döngüsü kullanabiliriz. Döngünün içinde, öğeler tek tek döndürülebilir, ardından karesi alınabilir ve yeni bir listeye eklenebilir."
      ],
      "metadata": {
        "id": "h5Ebaw6DVdXh"
      }
    },
    {
      "cell_type": "code",
      "source": [
        "number_list=[1,2,3,4,5]\n",
        "square_list=[]\n",
        "\n",
        "for num in number_list:\n",
        "  square_list.append(num**2)\n",
        "print(square_list)\n",
        "print(number_list)"
      ],
      "metadata": {
        "colab": {
          "base_uri": "https://localhost:8080/"
        },
        "id": "rXVO8Ny8Vfbp",
        "outputId": "f4474110-8db5-4ac4-9fa0-df0721d2219c"
      },
      "execution_count": 12,
      "outputs": [
        {
          "output_type": "stream",
          "name": "stdout",
          "text": [
            "[1, 4, 9, 16, 25]\n",
            "[1, 2, 3, 4, 5]\n"
          ]
        }
      ]
    },
    {
      "cell_type": "code",
      "source": [
        "number_list=[1,2,3,4,5]\n",
        "square_list=[]\n",
        "\n",
        "for num in number_list:\n",
        "  square_list.append(num**2)\n",
        "square_list=square_list+number_list\n",
        "print(square_list)"
      ],
      "metadata": {
        "colab": {
          "base_uri": "https://localhost:8080/"
        },
        "id": "JCxP9DCNWkua",
        "outputId": "80940ae3-df49-4801-88a3-68f85f5deb47"
      },
      "execution_count": 21,
      "outputs": [
        {
          "output_type": "stream",
          "name": "stdout",
          "text": [
            "[1, 4, 9, 16, 25, 1, 2, 3, 4, 5]\n"
          ]
        }
      ]
    },
    {
      "cell_type": "markdown",
      "source": [
        "- List Comprehension/Liste Kavrayışı:\n",
        "-- İfade\n",
        "-- For döngüsünden oluşur.\n",
        "\n",
        "For döngüsü liste üzerinde yineleme yapar. Parantezlerin içinde, tüm number_list'te yineleme yapan \"num\" döngü değişkenimiz var. Burada, bu değeri karelemek istediğimiz için double-asterisk 2 yazıyoruz. İşte bu kadar! Aynı çıktıyı, ancak daha az kodla elde edeceğiz."
      ],
      "metadata": {
        "id": "vi_lKCt9YvGk"
      }
    },
    {
      "cell_type": "code",
      "source": [
        "number_list=[1,2,3,4,5]\n",
        "square_list=[num**2 for num in number_list]\n",
        "print(square_list)"
      ],
      "metadata": {
        "colab": {
          "base_uri": "https://localhost:8080/"
        },
        "id": "FpFqgM75ZFa_",
        "outputId": "48af641d-81d3-4703-f7d2-289bbb3bd7d5"
      },
      "execution_count": 23,
      "outputs": [
        {
          "output_type": "stream",
          "name": "stdout",
          "text": [
            "[1, 4, 9, 16, 25]\n"
          ]
        }
      ]
    },
    {
      "cell_type": "markdown",
      "source": [
        "- Tuple: Listeler gibi, tuple'lar da birden fazla öğeyi tutabilen veri yapılarıdır. Ancak listeler değiştirilebilir ve tuple'lar değiştirilemezdir. Bu, listelerdeki öğeleri ekleyebilir, silebilir veya düzenleyebilirken, oluşturulduktan sonra tuple'lardaki öğelerde herhangi bir değişiklik yapılamaz.\n",
        "\n",
        "Tek fark, köşeli parantezler yerine yuvarlak parantezler kullanmamızdır.\n",
        "\n",
        "Bu işlem \"tuple'ı paketleme\" olarak adlandırılır , çünkü değerler bir tuple'ın içine paketleniyor. Tam tersini yapıp tuple'ları paketten çıkarabiliriz. Bunun için, tuple öğelerinin atanacağı değişken adlarını, ardından eşittir işaretini ve tuple'ın adını yazmamız gerekir."
      ],
      "metadata": {
        "id": "n1YrT9I8Zavx"
      }
    },
    {
      "cell_type": "code",
      "source": [
        "#Tuple örneği\n",
        "shopping_list=(\"elma\", \"armut\", \"et\", \"ekmek\")"
      ],
      "metadata": {
        "id": "d8WGFixsZ0gV"
      },
      "execution_count": 25,
      "outputs": []
    },
    {
      "cell_type": "code",
      "source": [
        "item1, item2, item3, item4=shopping_list\n",
        "print(item1)\n",
        "print(item2)\n",
        "print(item3)\n",
        "print(item4)"
      ],
      "metadata": {
        "colab": {
          "base_uri": "https://localhost:8080/"
        },
        "id": "CRs6pIjBZ-1N",
        "outputId": "163b879f-f194-48fc-edd9-a32b71517d17"
      },
      "execution_count": 26,
      "outputs": [
        {
          "output_type": "stream",
          "name": "stdout",
          "text": [
            "elma\n",
            "armut\n",
            "et\n",
            "ekmek\n"
          ]
        }
      ]
    },
    {
      "cell_type": "code",
      "source": [
        "print(shopping_list[0])"
      ],
      "metadata": {
        "colab": {
          "base_uri": "https://localhost:8080/"
        },
        "id": "mOxarUBoaPG_",
        "outputId": "113a7a62-b276-463a-864a-c02407fae92b"
      },
      "execution_count": 27,
      "outputs": [
        {
          "output_type": "stream",
          "name": "stdout",
          "text": [
            "elma\n"
          ]
        }
      ]
    },
    {
      "cell_type": "code",
      "source": [
        "print(shopping_list[:3])"
      ],
      "metadata": {
        "colab": {
          "base_uri": "https://localhost:8080/"
        },
        "id": "8hswQLTfaUiQ",
        "outputId": "13c23d13-5818-4bca-9ed2-9d15ec4ad91f"
      },
      "execution_count": 34,
      "outputs": [
        {
          "output_type": "stream",
          "name": "stdout",
          "text": [
            "('elma', 'armut', 'et')\n"
          ]
        }
      ]
    },
    {
      "cell_type": "code",
      "source": [
        "#tuple'lere ekleme yapılmaz aşağıdaki gibi hata alırız.\n",
        "shopping_list[2]=\"balon\""
      ],
      "metadata": {
        "colab": {
          "base_uri": "https://localhost:8080/",
          "height": 158
        },
        "id": "q4DNRfB8a1dF",
        "outputId": "c0c593bc-d782-499b-d96a-ae81eea46f13"
      },
      "execution_count": 35,
      "outputs": [
        {
          "output_type": "error",
          "ename": "TypeError",
          "evalue": "'tuple' object does not support item assignment",
          "traceback": [
            "\u001b[0;31m---------------------------------------------------------------------------\u001b[0m",
            "\u001b[0;31mTypeError\u001b[0m                                 Traceback (most recent call last)",
            "\u001b[0;32m<ipython-input-35-ff24b65008f2>\u001b[0m in \u001b[0;36m<cell line: 2>\u001b[0;34m()\u001b[0m\n\u001b[1;32m      1\u001b[0m \u001b[0;31m#tuple'lere ekleme yapılmaz.\u001b[0m\u001b[0;34m\u001b[0m\u001b[0;34m\u001b[0m\u001b[0m\n\u001b[0;32m----> 2\u001b[0;31m \u001b[0mshopping_list\u001b[0m\u001b[0;34m[\u001b[0m\u001b[0;36m2\u001b[0m\u001b[0;34m]\u001b[0m\u001b[0;34m=\u001b[0m\u001b[0;34m\"balon\"\u001b[0m\u001b[0;34m\u001b[0m\u001b[0;34m\u001b[0m\u001b[0m\n\u001b[0m",
            "\u001b[0;31mTypeError\u001b[0m: 'tuple' object does not support item assignment"
          ]
        }
      ]
    },
    {
      "cell_type": "markdown",
      "source": [
        "- Dictionaries/Sözlük:\n",
        "\n",
        "Listeler ve tuple'lar gibi, sözlükler de birden fazla elemanı tutabilir, ancak farklı bir formatta.\n",
        "\n",
        "Bir sözlüğün içindeki her eleman bir anahtar(key)/değer(value) çiftinden oluşur.\n",
        "\n",
        "Anahtarı, değerin indeksi olarak düşünebilirsiniz.\n",
        "\n",
        "Sözlük oluşturmak için {} süslü parantez kullanırız.\n",
        "\n",
        "Anahtar bir sayı veya bir dize olabilir, ancak \"benzersiz olması çok önemlidir!\" Bir nesneye erişmek için anahtarı kullandığımızdan, aynı anahtara karşılık gelen birden fazla nesne olamaz. Anahtardan sonra, değeri takip eden iki nokta üst üste koyarız. Öğeler virgülle bölünür.\n"
      ],
      "metadata": {
        "id": "ieX65liPbTjG"
      }
    },
    {
      "cell_type": "code",
      "source": [
        "phone_book = {'Deniz Kaya':'+90 505 123 45 67', 'Selin Demir': '+49 157 12345678', 'Ali Can':'+1 234 235 5678'}\n",
        "print(phone_book)"
      ],
      "metadata": {
        "colab": {
          "base_uri": "https://localhost:8080/"
        },
        "id": "YXKjg5m7ePvg",
        "outputId": "e12e7a49-cfb9-4ba4-b1e9-ff2aca402d71"
      },
      "execution_count": 36,
      "outputs": [
        {
          "output_type": "stream",
          "name": "stdout",
          "text": [
            "{'Deniz Kaya': '+90 505 123 45 67', 'Selin Demir': '+49 157 12345678', 'Ali Can': '+1 234 235 5678'}\n"
          ]
        }
      ]
    },
    {
      "cell_type": "code",
      "source": [
        "#Bir değere erişmek için, sözlüğün adını ve anahtarı köşeli parantez içine yazmamız yeterlidir.\n",
        "print(phone_book[\"Selin Demir\"])"
      ],
      "metadata": {
        "colab": {
          "base_uri": "https://localhost:8080/"
        },
        "id": "w0WD1WpCeT3d",
        "outputId": "602982be-fac1-4f7a-d6ce-342320e9bb16"
      },
      "execution_count": 38,
      "outputs": [
        {
          "output_type": "stream",
          "name": "stdout",
          "text": [
            "+49 157 12345678\n"
          ]
        }
      ]
    },
    {
      "cell_type": "markdown",
      "source": [
        "- Sözlüğümüzdeki anahtarlara tek tek değerler atayabiliriz. Bunu yapmak için dict() fonksiyonunu kullanabiliriz.\n"
      ],
      "metadata": {
        "id": "dnXMoUFEei78"
      }
    },
    {
      "cell_type": "code",
      "source": [
        "inventory=dict()\n",
        "inventory[\"elma\"]=25\n",
        "inventory[\"armut\"]=50\n",
        "inventory[\"üzüm\"]=50\n",
        "inventory[\"biber\"]=15\n",
        "\n",
        "print(inventory)"
      ],
      "metadata": {
        "colab": {
          "base_uri": "https://localhost:8080/"
        },
        "id": "bZ5IwAm9e5qc",
        "outputId": "38207f9e-690a-4428-f2b6-3023c02758fa"
      },
      "execution_count": 41,
      "outputs": [
        {
          "output_type": "stream",
          "name": "stdout",
          "text": [
            "{'elma': 25, 'armut': 50, 'üzüm': 50, 'biber': 15}\n"
          ]
        }
      ]
    },
    {
      "cell_type": "code",
      "source": [
        "print(inventory[\"üzüm\"])"
      ],
      "metadata": {
        "colab": {
          "base_uri": "https://localhost:8080/"
        },
        "id": "1nobcQbwfXDa",
        "outputId": "6807ace0-b766-41a5-c70b-dfa57ce9e4a7"
      },
      "execution_count": 42,
      "outputs": [
        {
          "output_type": "stream",
          "name": "stdout",
          "text": [
            "50\n"
          ]
        }
      ]
    },
    {
      "cell_type": "code",
      "source": [
        "print(inventory.keys())"
      ],
      "metadata": {
        "colab": {
          "base_uri": "https://localhost:8080/"
        },
        "id": "GpM_G7Pafcw9",
        "outputId": "16aa7f04-d1dc-497b-cbac-2ec686a2f582"
      },
      "execution_count": 43,
      "outputs": [
        {
          "output_type": "stream",
          "name": "stdout",
          "text": [
            "dict_keys(['elma', 'armut', 'üzüm', 'biber'])\n"
          ]
        }
      ]
    },
    {
      "cell_type": "code",
      "source": [
        "print(inventory.values())"
      ],
      "metadata": {
        "colab": {
          "base_uri": "https://localhost:8080/"
        },
        "id": "a4zer6xUfj_N",
        "outputId": "ba4dd900-4795-40bf-f224-72ab4190a281"
      },
      "execution_count": 47,
      "outputs": [
        {
          "output_type": "stream",
          "name": "stdout",
          "text": [
            "dict_values([25, 50, 50, 15])\n"
          ]
        }
      ]
    },
    {
      "cell_type": "code",
      "source": [
        "print(inventory.items())"
      ],
      "metadata": {
        "colab": {
          "base_uri": "https://localhost:8080/"
        },
        "id": "8i-jtI5wg2at",
        "outputId": "e17b2c3c-2018-474a-e48a-fee0ba8caa05"
      },
      "execution_count": 48,
      "outputs": [
        {
          "output_type": "stream",
          "name": "stdout",
          "text": [
            "dict_items([('elma', 25), ('armut', 50), ('üzüm', 50), ('biber', 15)])\n"
          ]
        }
      ]
    },
    {
      "cell_type": "code",
      "source": [
        "for element in inventory:\n",
        "  print(element)"
      ],
      "metadata": {
        "colab": {
          "base_uri": "https://localhost:8080/"
        },
        "id": "K7hRX5i0hKoi",
        "outputId": "47521288-cd2b-4874-ca85-36eb4d48fc8b"
      },
      "execution_count": 49,
      "outputs": [
        {
          "output_type": "stream",
          "name": "stdout",
          "text": [
            "elma\n",
            "armut\n",
            "üzüm\n",
            "biber\n"
          ]
        }
      ]
    },
    {
      "cell_type": "code",
      "source": [
        "for key in inventory:\n",
        "  inventory[key] +=100\n",
        "print(inventory)"
      ],
      "metadata": {
        "colab": {
          "base_uri": "https://localhost:8080/"
        },
        "id": "0r4qd5KzhUKq",
        "outputId": "ae978667-466d-42ae-a955-79b607bcb0ce"
      },
      "execution_count": 50,
      "outputs": [
        {
          "output_type": "stream",
          "name": "stdout",
          "text": [
            "{'elma': 125, 'armut': 150, 'üzüm': 150, 'biber': 115}\n"
          ]
        }
      ]
    },
    {
      "cell_type": "code",
      "source": [
        "for key, value in inventory.items():\n",
        "  if value > 200:\n",
        "    print(\"Too many\", key)\n",
        "  else:\n",
        "    print(\"Enough\", key)"
      ],
      "metadata": {
        "colab": {
          "base_uri": "https://localhost:8080/"
        },
        "id": "DfDZTrI_hggH",
        "outputId": "44932ac0-8bd7-4932-956c-e07ae8d133a2"
      },
      "execution_count": 52,
      "outputs": [
        {
          "output_type": "stream",
          "name": "stdout",
          "text": [
            "Enough elma\n",
            "Enough armut\n",
            "Enough üzüm\n",
            "Enough biber\n"
          ]
        }
      ]
    },
    {
      "cell_type": "code",
      "source": [
        "for key, value in inventory.items():\n",
        "    print(\"Key:\", key, \"Value:\", value,\" Type:\",type(value))"
      ],
      "metadata": {
        "colab": {
          "base_uri": "https://localhost:8080/"
        },
        "id": "Vz7crTQ7ia4K",
        "outputId": "7ea38c09-0826-4783-ff61-404013381f0a"
      },
      "execution_count": 51,
      "outputs": [
        {
          "output_type": "stream",
          "name": "stdout",
          "text": [
            "Key: elma Value: 125  Type: <class 'int'>\n",
            "Key: armut Value: 150  Type: <class 'int'>\n",
            "Key: üzüm Value: 150  Type: <class 'int'>\n",
            "Key: biber Value: 115  Type: <class 'int'>\n"
          ]
        }
      ]
    },
    {
      "cell_type": "markdown",
      "source": [
        "# FILES/ Dosayalar:\n",
        "\n",
        "Dosya, bilgileri depolayan bir bilgisayardaki bir kaptır. Farklı dosya türleri vardır ve programlamada en sık kullanılanlar, \".txt\" uzantısıyla biten metin dosyalarıdır."
      ],
      "metadata": {
        "id": "Ae2siDVDxBnE"
      }
    },
    {
      "cell_type": "markdown",
      "source": [
        "Python'da bir dosyayı açmak oldukça basittir. Bunun için open() adlı yerleşik bir işlevimiz var. open() fonksiyonunu kullanırken, hangi dosyayı açacağımızı ve Python'un onu nerede bulabileceğini belirtmemiz gerekir. Dosya geçerli dizinin içindeyse, open() fonksiyonunda dosya adını vermek yeterlidir. Dosya geçerli dizinin dışındaysa, konumu belirtmek için tam yolu yazmamız gerekir."
      ],
      "metadata": {
        "id": "2FF2lNbLxQi1"
      }
    },
    {
      "cell_type": "code",
      "source": [
        "%cd /content/file_operations"
      ],
      "metadata": {
        "colab": {
          "base_uri": "https://localhost:8080/"
        },
        "id": "GoS0vios0T0Y",
        "outputId": "ea6cc1ec-92b6-4bce-fdb1-2b087f1c4165"
      },
      "execution_count": 66,
      "outputs": [
        {
          "output_type": "stream",
          "name": "stdout",
          "text": [
            "/content/file_operations\n"
          ]
        }
      ]
    },
    {
      "cell_type": "code",
      "source": [
        "message_file = open(\"message.txt\",\"r\") #okuma modunda aç"
      ],
      "metadata": {
        "id": "4Xjj-qeKx-Y8"
      },
      "execution_count": 68,
      "outputs": []
    },
    {
      "cell_type": "code",
      "source": [
        "content = message_file.read() #oku\n",
        "content"
      ],
      "metadata": {
        "colab": {
          "base_uri": "https://localhost:8080/",
          "height": 35
        },
        "id": "bpXAQYsB0-g5",
        "outputId": "8f400b67-c025-40b5-d72b-6113c4e358c0"
      },
      "execution_count": 69,
      "outputs": [
        {
          "output_type": "execute_result",
          "data": {
            "text/plain": [
              "'Hello Merve!'"
            ],
            "application/vnd.google.colaboratory.intrinsic+json": {
              "type": "string"
            }
          },
          "metadata": {},
          "execution_count": 69
        }
      ]
    },
    {
      "cell_type": "code",
      "source": [
        "message_file.close() #kapat"
      ],
      "metadata": {
        "id": "Ep9Eahr32AUi"
      },
      "execution_count": 70,
      "outputs": []
    },
    {
      "cell_type": "code",
      "source": [
        "print(content)"
      ],
      "metadata": {
        "colab": {
          "base_uri": "https://localhost:8080/"
        },
        "id": "TTj556YY2IfZ",
        "outputId": "da6cf0a0-0a64-4936-dc15-285394bda607"
      },
      "execution_count": 71,
      "outputs": [
        {
          "output_type": "stream",
          "name": "stdout",
          "text": [
            "Hello Merve!\n"
          ]
        }
      ]
    },
    {
      "cell_type": "code",
      "source": [
        "hello_file = open(\"hello.txt\", \"w\") #yazma modunda aç"
      ],
      "metadata": {
        "id": "jfUdmIn82Ptm"
      },
      "execution_count": 72,
      "outputs": []
    },
    {
      "cell_type": "code",
      "source": [
        "hello_file.write('Hello world, this is Python') #yaz\n",
        "hello_file.close() #kapat"
      ],
      "metadata": {
        "id": "gq3HlAze2VX2"
      },
      "execution_count": 73,
      "outputs": []
    },
    {
      "cell_type": "code",
      "source": [
        "import random\n",
        "while True:\n",
        "\n",
        "  random_number = random.randrange(1000)\n",
        "  print(random_number)\n",
        "\n",
        "  if random_number == 777:\n",
        "    print('Found!')\n",
        "    break"
      ],
      "metadata": {
        "colab": {
          "base_uri": "https://localhost:8080/"
        },
        "id": "sqXmx_mZ2kUa",
        "outputId": "fba1ae35-ae21-4c64-8d6b-ffb77cc19996"
      },
      "execution_count": 79,
      "outputs": [
        {
          "output_type": "stream",
          "name": "stdout",
          "text": [
            "103\n",
            "366\n",
            "460\n",
            "124\n",
            "483\n",
            "710\n",
            "760\n",
            "870\n",
            "369\n",
            "812\n",
            "61\n",
            "245\n",
            "424\n",
            "125\n",
            "241\n",
            "687\n",
            "184\n",
            "908\n",
            "193\n",
            "817\n",
            "360\n",
            "541\n",
            "841\n",
            "697\n",
            "108\n",
            "543\n",
            "762\n",
            "72\n",
            "647\n",
            "211\n",
            "473\n",
            "731\n",
            "186\n",
            "194\n",
            "890\n",
            "849\n",
            "732\n",
            "50\n",
            "16\n",
            "757\n",
            "991\n",
            "979\n",
            "237\n",
            "362\n",
            "988\n",
            "815\n",
            "491\n",
            "442\n",
            "231\n",
            "44\n",
            "10\n",
            "3\n",
            "366\n",
            "25\n",
            "484\n",
            "627\n",
            "731\n",
            "530\n",
            "781\n",
            "889\n",
            "55\n",
            "354\n",
            "80\n",
            "505\n",
            "103\n",
            "220\n",
            "683\n",
            "561\n",
            "412\n",
            "108\n",
            "195\n",
            "416\n",
            "879\n",
            "560\n",
            "582\n",
            "78\n",
            "440\n",
            "452\n",
            "721\n",
            "596\n",
            "471\n",
            "144\n",
            "258\n",
            "197\n",
            "648\n",
            "693\n",
            "884\n",
            "778\n",
            "370\n",
            "224\n",
            "120\n",
            "60\n",
            "819\n",
            "816\n",
            "525\n",
            "267\n",
            "905\n",
            "170\n",
            "119\n",
            "370\n",
            "133\n",
            "568\n",
            "442\n",
            "234\n",
            "163\n",
            "313\n",
            "651\n",
            "368\n",
            "23\n",
            "151\n",
            "953\n",
            "169\n",
            "913\n",
            "562\n",
            "723\n",
            "410\n",
            "351\n",
            "448\n",
            "572\n",
            "73\n",
            "518\n",
            "521\n",
            "537\n",
            "211\n",
            "424\n",
            "504\n",
            "393\n",
            "375\n",
            "625\n",
            "783\n",
            "699\n",
            "868\n",
            "231\n",
            "830\n",
            "86\n",
            "707\n",
            "67\n",
            "914\n",
            "814\n",
            "404\n",
            "601\n",
            "452\n",
            "666\n",
            "177\n",
            "352\n",
            "459\n",
            "159\n",
            "614\n",
            "315\n",
            "885\n",
            "10\n",
            "58\n",
            "479\n",
            "348\n",
            "51\n",
            "820\n",
            "503\n",
            "0\n",
            "614\n",
            "312\n",
            "194\n",
            "504\n",
            "328\n",
            "244\n",
            "630\n",
            "865\n",
            "362\n",
            "956\n",
            "211\n",
            "412\n",
            "420\n",
            "206\n",
            "21\n",
            "610\n",
            "466\n",
            "60\n",
            "3\n",
            "77\n",
            "6\n",
            "496\n",
            "473\n",
            "604\n",
            "937\n",
            "125\n",
            "808\n",
            "98\n",
            "605\n",
            "722\n",
            "40\n",
            "951\n",
            "854\n",
            "852\n",
            "643\n",
            "7\n",
            "68\n",
            "516\n",
            "764\n",
            "769\n",
            "516\n",
            "452\n",
            "126\n",
            "10\n",
            "69\n",
            "691\n",
            "353\n",
            "515\n",
            "318\n",
            "793\n",
            "870\n",
            "519\n",
            "388\n",
            "806\n",
            "787\n",
            "106\n",
            "628\n",
            "53\n",
            "613\n",
            "823\n",
            "518\n",
            "696\n",
            "268\n",
            "511\n",
            "306\n",
            "112\n",
            "686\n",
            "80\n",
            "387\n",
            "744\n",
            "987\n",
            "268\n",
            "368\n",
            "138\n",
            "962\n",
            "576\n",
            "665\n",
            "902\n",
            "40\n",
            "194\n",
            "43\n",
            "955\n",
            "41\n",
            "865\n",
            "436\n",
            "255\n",
            "444\n",
            "29\n",
            "19\n",
            "662\n",
            "871\n",
            "785\n",
            "946\n",
            "942\n",
            "707\n",
            "544\n",
            "114\n",
            "873\n",
            "421\n",
            "26\n",
            "280\n",
            "273\n",
            "588\n",
            "433\n",
            "784\n",
            "360\n",
            "962\n",
            "767\n",
            "453\n",
            "872\n",
            "753\n",
            "124\n",
            "171\n",
            "120\n",
            "494\n",
            "479\n",
            "988\n",
            "563\n",
            "73\n",
            "693\n",
            "316\n",
            "700\n",
            "673\n",
            "921\n",
            "595\n",
            "132\n",
            "949\n",
            "442\n",
            "685\n",
            "971\n",
            "768\n",
            "259\n",
            "774\n",
            "0\n",
            "313\n",
            "846\n",
            "499\n",
            "117\n",
            "799\n",
            "989\n",
            "498\n",
            "310\n",
            "568\n",
            "262\n",
            "887\n",
            "305\n",
            "265\n",
            "24\n",
            "298\n",
            "673\n",
            "626\n",
            "129\n",
            "67\n",
            "833\n",
            "574\n",
            "203\n",
            "201\n",
            "376\n",
            "433\n",
            "299\n",
            "799\n",
            "633\n",
            "248\n",
            "384\n",
            "237\n",
            "861\n",
            "890\n",
            "758\n",
            "887\n",
            "781\n",
            "145\n",
            "998\n",
            "63\n",
            "221\n",
            "942\n",
            "493\n",
            "728\n",
            "299\n",
            "527\n",
            "991\n",
            "512\n",
            "412\n",
            "921\n",
            "68\n",
            "196\n",
            "351\n",
            "890\n",
            "449\n",
            "211\n",
            "873\n",
            "642\n",
            "8\n",
            "220\n",
            "62\n",
            "596\n",
            "798\n",
            "18\n",
            "119\n",
            "450\n",
            "356\n",
            "264\n",
            "184\n",
            "830\n",
            "793\n",
            "715\n",
            "191\n",
            "976\n",
            "288\n",
            "255\n",
            "288\n",
            "585\n",
            "980\n",
            "125\n",
            "574\n",
            "293\n",
            "766\n",
            "881\n",
            "394\n",
            "900\n",
            "546\n",
            "520\n",
            "501\n",
            "246\n",
            "950\n",
            "758\n",
            "948\n",
            "528\n",
            "633\n",
            "342\n",
            "699\n",
            "654\n",
            "146\n",
            "914\n",
            "771\n",
            "756\n",
            "551\n",
            "904\n",
            "269\n",
            "815\n",
            "504\n",
            "869\n",
            "594\n",
            "694\n",
            "37\n",
            "286\n",
            "359\n",
            "13\n",
            "580\n",
            "347\n",
            "22\n",
            "100\n",
            "482\n",
            "990\n",
            "844\n",
            "467\n",
            "500\n",
            "132\n",
            "314\n",
            "928\n",
            "285\n",
            "764\n",
            "580\n",
            "821\n",
            "570\n",
            "261\n",
            "714\n",
            "767\n",
            "724\n",
            "975\n",
            "470\n",
            "791\n",
            "104\n",
            "339\n",
            "215\n",
            "260\n",
            "634\n",
            "493\n",
            "1\n",
            "347\n",
            "174\n",
            "949\n",
            "98\n",
            "228\n",
            "535\n",
            "875\n",
            "846\n",
            "668\n",
            "296\n",
            "777\n",
            "Found!\n"
          ]
        }
      ]
    },
    {
      "cell_type": "code",
      "source": [
        "import random\n",
        "try:\n",
        "  numbers_file = open('number_history.txt', 'w') #dosyayı yazma modunda aç\n",
        "except:\n",
        "  print(\"Dosya oluşturulamadı.\")\n",
        "\n",
        "while True:\n",
        "\n",
        "  random_number = random.randrange(1000)\n",
        "  print(random_number)\n",
        "  numbers_file.write(str(random_number)) #yazma modunda her zaman string ile yazılır.\n",
        "  numbers_file.write('\\n')\n",
        "\n",
        "  if random_number == 777:\n",
        "    print('Found!')\n",
        "    numbers_file.write('Found!')\n",
        "    numbers_file.close()\n",
        "    break"
      ],
      "metadata": {
        "colab": {
          "base_uri": "https://localhost:8080/"
        },
        "id": "LZX-P4ik3gvf",
        "outputId": "dcd35961-f8d3-4b5a-f240-0aa290da6e94"
      },
      "execution_count": 80,
      "outputs": [
        {
          "output_type": "stream",
          "name": "stdout",
          "text": [
            "493\n",
            "692\n",
            "74\n",
            "920\n",
            "193\n",
            "986\n",
            "692\n",
            "23\n",
            "742\n",
            "339\n",
            "604\n",
            "158\n",
            "749\n",
            "772\n",
            "276\n",
            "341\n",
            "497\n",
            "34\n",
            "113\n",
            "703\n",
            "934\n",
            "227\n",
            "844\n",
            "988\n",
            "841\n",
            "646\n",
            "137\n",
            "22\n",
            "621\n",
            "473\n",
            "516\n",
            "587\n",
            "761\n",
            "254\n",
            "998\n",
            "597\n",
            "509\n",
            "560\n",
            "429\n",
            "832\n",
            "996\n",
            "946\n",
            "77\n",
            "19\n",
            "748\n",
            "879\n",
            "686\n",
            "207\n",
            "322\n",
            "68\n",
            "283\n",
            "654\n",
            "175\n",
            "923\n",
            "140\n",
            "654\n",
            "746\n",
            "863\n",
            "133\n",
            "874\n",
            "929\n",
            "336\n",
            "98\n",
            "417\n",
            "544\n",
            "20\n",
            "230\n",
            "281\n",
            "0\n",
            "339\n",
            "256\n",
            "175\n",
            "646\n",
            "691\n",
            "613\n",
            "859\n",
            "229\n",
            "249\n",
            "549\n",
            "919\n",
            "694\n",
            "643\n",
            "229\n",
            "25\n",
            "298\n",
            "573\n",
            "696\n",
            "814\n",
            "739\n",
            "875\n",
            "531\n",
            "926\n",
            "805\n",
            "821\n",
            "24\n",
            "571\n",
            "331\n",
            "806\n",
            "975\n",
            "576\n",
            "208\n",
            "299\n",
            "963\n",
            "430\n",
            "560\n",
            "250\n",
            "700\n",
            "713\n",
            "487\n",
            "964\n",
            "172\n",
            "264\n",
            "318\n",
            "964\n",
            "809\n",
            "513\n",
            "477\n",
            "569\n",
            "929\n",
            "79\n",
            "634\n",
            "320\n",
            "871\n",
            "853\n",
            "900\n",
            "577\n",
            "761\n",
            "551\n",
            "383\n",
            "846\n",
            "52\n",
            "391\n",
            "934\n",
            "94\n",
            "331\n",
            "178\n",
            "589\n",
            "557\n",
            "509\n",
            "337\n",
            "904\n",
            "953\n",
            "971\n",
            "923\n",
            "908\n",
            "557\n",
            "563\n",
            "880\n",
            "541\n",
            "939\n",
            "734\n",
            "377\n",
            "595\n",
            "823\n",
            "749\n",
            "536\n",
            "940\n",
            "450\n",
            "527\n",
            "575\n",
            "531\n",
            "71\n",
            "60\n",
            "481\n",
            "682\n",
            "199\n",
            "157\n",
            "211\n",
            "333\n",
            "116\n",
            "688\n",
            "698\n",
            "20\n",
            "287\n",
            "310\n",
            "752\n",
            "485\n",
            "48\n",
            "43\n",
            "512\n",
            "701\n",
            "428\n",
            "417\n",
            "881\n",
            "823\n",
            "165\n",
            "638\n",
            "862\n",
            "322\n",
            "559\n",
            "371\n",
            "312\n",
            "939\n",
            "504\n",
            "300\n",
            "262\n",
            "743\n",
            "924\n",
            "736\n",
            "56\n",
            "175\n",
            "505\n",
            "880\n",
            "687\n",
            "439\n",
            "62\n",
            "387\n",
            "540\n",
            "889\n",
            "833\n",
            "317\n",
            "589\n",
            "535\n",
            "134\n",
            "750\n",
            "621\n",
            "619\n",
            "504\n",
            "722\n",
            "998\n",
            "13\n",
            "565\n",
            "653\n",
            "133\n",
            "348\n",
            "805\n",
            "481\n",
            "847\n",
            "901\n",
            "885\n",
            "688\n",
            "8\n",
            "432\n",
            "915\n",
            "385\n",
            "292\n",
            "592\n",
            "783\n",
            "148\n",
            "95\n",
            "621\n",
            "672\n",
            "590\n",
            "369\n",
            "117\n",
            "231\n",
            "982\n",
            "256\n",
            "44\n",
            "639\n",
            "320\n",
            "603\n",
            "382\n",
            "342\n",
            "168\n",
            "756\n",
            "933\n",
            "218\n",
            "560\n",
            "172\n",
            "310\n",
            "408\n",
            "360\n",
            "210\n",
            "958\n",
            "216\n",
            "915\n",
            "109\n",
            "378\n",
            "958\n",
            "63\n",
            "188\n",
            "571\n",
            "213\n",
            "292\n",
            "801\n",
            "670\n",
            "754\n",
            "88\n",
            "812\n",
            "815\n",
            "757\n",
            "51\n",
            "555\n",
            "251\n",
            "66\n",
            "766\n",
            "327\n",
            "135\n",
            "73\n",
            "905\n",
            "748\n",
            "799\n",
            "668\n",
            "825\n",
            "821\n",
            "973\n",
            "259\n",
            "811\n",
            "533\n",
            "172\n",
            "141\n",
            "153\n",
            "590\n",
            "379\n",
            "255\n",
            "845\n",
            "59\n",
            "218\n",
            "910\n",
            "791\n",
            "611\n",
            "384\n",
            "654\n",
            "461\n",
            "900\n",
            "873\n",
            "598\n",
            "76\n",
            "113\n",
            "942\n",
            "113\n",
            "141\n",
            "151\n",
            "772\n",
            "633\n",
            "204\n",
            "74\n",
            "176\n",
            "539\n",
            "962\n",
            "322\n",
            "976\n",
            "900\n",
            "36\n",
            "128\n",
            "913\n",
            "738\n",
            "377\n",
            "763\n",
            "134\n",
            "483\n",
            "837\n",
            "456\n",
            "423\n",
            "436\n",
            "711\n",
            "722\n",
            "265\n",
            "391\n",
            "878\n",
            "444\n",
            "540\n",
            "85\n",
            "937\n",
            "50\n",
            "492\n",
            "583\n",
            "739\n",
            "349\n",
            "814\n",
            "448\n",
            "848\n",
            "182\n",
            "800\n",
            "653\n",
            "902\n",
            "153\n",
            "329\n",
            "358\n",
            "57\n",
            "122\n",
            "939\n",
            "739\n",
            "75\n",
            "642\n",
            "960\n",
            "629\n",
            "649\n",
            "70\n",
            "703\n",
            "511\n",
            "566\n",
            "418\n",
            "259\n",
            "628\n",
            "140\n",
            "762\n",
            "145\n",
            "834\n",
            "559\n",
            "825\n",
            "194\n",
            "827\n",
            "718\n",
            "985\n",
            "63\n",
            "380\n",
            "278\n",
            "344\n",
            "612\n",
            "548\n",
            "167\n",
            "916\n",
            "546\n",
            "605\n",
            "571\n",
            "652\n",
            "280\n",
            "688\n",
            "62\n",
            "595\n",
            "878\n",
            "958\n",
            "524\n",
            "829\n",
            "263\n",
            "124\n",
            "406\n",
            "763\n",
            "211\n",
            "928\n",
            "966\n",
            "686\n",
            "676\n",
            "491\n",
            "181\n",
            "282\n",
            "451\n",
            "147\n",
            "726\n",
            "880\n",
            "656\n",
            "789\n",
            "696\n",
            "567\n",
            "839\n",
            "142\n",
            "19\n",
            "501\n",
            "471\n",
            "625\n",
            "395\n",
            "884\n",
            "202\n",
            "222\n",
            "922\n",
            "849\n",
            "768\n",
            "986\n",
            "409\n",
            "56\n",
            "991\n",
            "886\n",
            "284\n",
            "59\n",
            "476\n",
            "315\n",
            "944\n",
            "864\n",
            "508\n",
            "986\n",
            "733\n",
            "989\n",
            "926\n",
            "481\n",
            "79\n",
            "991\n",
            "260\n",
            "693\n",
            "821\n",
            "939\n",
            "499\n",
            "527\n",
            "726\n",
            "14\n",
            "213\n",
            "195\n",
            "795\n",
            "403\n",
            "40\n",
            "390\n",
            "153\n",
            "845\n",
            "415\n",
            "784\n",
            "380\n",
            "907\n",
            "471\n",
            "972\n",
            "933\n",
            "453\n",
            "629\n",
            "307\n",
            "283\n",
            "639\n",
            "796\n",
            "670\n",
            "45\n",
            "190\n",
            "361\n",
            "718\n",
            "679\n",
            "786\n",
            "165\n",
            "206\n",
            "453\n",
            "709\n",
            "305\n",
            "697\n",
            "729\n",
            "851\n",
            "409\n",
            "482\n",
            "445\n",
            "72\n",
            "262\n",
            "381\n",
            "713\n",
            "690\n",
            "802\n",
            "613\n",
            "926\n",
            "419\n",
            "532\n",
            "795\n",
            "794\n",
            "925\n",
            "592\n",
            "855\n",
            "853\n",
            "64\n",
            "104\n",
            "792\n",
            "916\n",
            "509\n",
            "322\n",
            "648\n",
            "996\n",
            "967\n",
            "8\n",
            "950\n",
            "951\n",
            "834\n",
            "556\n",
            "187\n",
            "782\n",
            "206\n",
            "330\n",
            "62\n",
            "421\n",
            "631\n",
            "558\n",
            "570\n",
            "404\n",
            "470\n",
            "576\n",
            "303\n",
            "373\n",
            "717\n",
            "839\n",
            "564\n",
            "233\n",
            "247\n",
            "96\n",
            "848\n",
            "412\n",
            "908\n",
            "847\n",
            "297\n",
            "112\n",
            "302\n",
            "681\n",
            "59\n",
            "272\n",
            "176\n",
            "421\n",
            "140\n",
            "716\n",
            "814\n",
            "28\n",
            "253\n",
            "48\n",
            "900\n",
            "239\n",
            "714\n",
            "35\n",
            "177\n",
            "229\n",
            "71\n",
            "695\n",
            "694\n",
            "140\n",
            "240\n",
            "452\n",
            "950\n",
            "469\n",
            "597\n",
            "228\n",
            "40\n",
            "692\n",
            "830\n",
            "509\n",
            "789\n",
            "427\n",
            "92\n",
            "279\n",
            "987\n",
            "236\n",
            "127\n",
            "192\n",
            "27\n",
            "840\n",
            "587\n",
            "47\n",
            "850\n",
            "452\n",
            "67\n",
            "170\n",
            "81\n",
            "540\n",
            "478\n",
            "58\n",
            "153\n",
            "875\n",
            "879\n",
            "933\n",
            "496\n",
            "931\n",
            "54\n",
            "754\n",
            "100\n",
            "513\n",
            "618\n",
            "936\n",
            "531\n",
            "674\n",
            "884\n",
            "490\n",
            "806\n",
            "781\n",
            "624\n",
            "596\n",
            "287\n",
            "563\n",
            "69\n",
            "700\n",
            "77\n",
            "603\n",
            "756\n",
            "403\n",
            "13\n",
            "546\n",
            "565\n",
            "982\n",
            "448\n",
            "395\n",
            "301\n",
            "41\n",
            "207\n",
            "927\n",
            "357\n",
            "570\n",
            "654\n",
            "292\n",
            "305\n",
            "656\n",
            "763\n",
            "905\n",
            "753\n",
            "434\n",
            "233\n",
            "931\n",
            "732\n",
            "578\n",
            "140\n",
            "527\n",
            "556\n",
            "512\n",
            "25\n",
            "622\n",
            "226\n",
            "140\n",
            "157\n",
            "472\n",
            "307\n",
            "29\n",
            "231\n",
            "29\n",
            "685\n",
            "455\n",
            "410\n",
            "960\n",
            "764\n",
            "964\n",
            "437\n",
            "968\n",
            "393\n",
            "582\n",
            "822\n",
            "956\n",
            "941\n",
            "547\n",
            "850\n",
            "855\n",
            "710\n",
            "189\n",
            "60\n",
            "242\n",
            "884\n",
            "343\n",
            "373\n",
            "100\n",
            "837\n",
            "773\n",
            "609\n",
            "247\n",
            "760\n",
            "897\n",
            "547\n",
            "180\n",
            "394\n",
            "139\n",
            "491\n",
            "780\n",
            "989\n",
            "272\n",
            "700\n",
            "977\n",
            "573\n",
            "182\n",
            "129\n",
            "907\n",
            "139\n",
            "495\n",
            "530\n",
            "93\n",
            "433\n",
            "190\n",
            "955\n",
            "299\n",
            "191\n",
            "922\n",
            "867\n",
            "941\n",
            "715\n",
            "495\n",
            "745\n",
            "533\n",
            "750\n",
            "861\n",
            "836\n",
            "819\n",
            "248\n",
            "460\n",
            "3\n",
            "41\n",
            "70\n",
            "480\n",
            "951\n",
            "644\n",
            "56\n",
            "482\n",
            "200\n",
            "207\n",
            "781\n",
            "975\n",
            "410\n",
            "411\n",
            "406\n",
            "213\n",
            "557\n",
            "120\n",
            "783\n",
            "458\n",
            "652\n",
            "679\n",
            "245\n",
            "459\n",
            "156\n",
            "75\n",
            "398\n",
            "797\n",
            "29\n",
            "845\n",
            "175\n",
            "628\n",
            "474\n",
            "642\n",
            "501\n",
            "439\n",
            "302\n",
            "496\n",
            "306\n",
            "415\n",
            "427\n",
            "743\n",
            "866\n",
            "662\n",
            "368\n",
            "511\n",
            "64\n",
            "871\n",
            "416\n",
            "689\n",
            "844\n",
            "504\n",
            "974\n",
            "241\n",
            "53\n",
            "817\n",
            "653\n",
            "336\n",
            "234\n",
            "541\n",
            "454\n",
            "253\n",
            "49\n",
            "975\n",
            "888\n",
            "923\n",
            "218\n",
            "836\n",
            "832\n",
            "598\n",
            "486\n",
            "707\n",
            "681\n",
            "686\n",
            "77\n",
            "127\n",
            "357\n",
            "776\n",
            "587\n",
            "678\n",
            "308\n",
            "829\n",
            "40\n",
            "891\n",
            "675\n",
            "473\n",
            "946\n",
            "961\n",
            "107\n",
            "53\n",
            "112\n",
            "336\n",
            "971\n",
            "981\n",
            "634\n",
            "207\n",
            "129\n",
            "337\n",
            "975\n",
            "398\n",
            "653\n",
            "833\n",
            "990\n",
            "263\n",
            "612\n",
            "855\n",
            "391\n",
            "657\n",
            "386\n",
            "386\n",
            "81\n",
            "173\n",
            "768\n",
            "554\n",
            "959\n",
            "278\n",
            "499\n",
            "318\n",
            "311\n",
            "572\n",
            "604\n",
            "436\n",
            "544\n",
            "44\n",
            "513\n",
            "628\n",
            "582\n",
            "755\n",
            "963\n",
            "539\n",
            "568\n",
            "194\n",
            "318\n",
            "471\n",
            "153\n",
            "404\n",
            "934\n",
            "314\n",
            "187\n",
            "369\n",
            "112\n",
            "76\n",
            "126\n",
            "651\n",
            "372\n",
            "364\n",
            "778\n",
            "708\n",
            "941\n",
            "603\n",
            "237\n",
            "596\n",
            "780\n",
            "150\n",
            "326\n",
            "680\n",
            "266\n",
            "33\n",
            "662\n",
            "193\n",
            "161\n",
            "778\n",
            "183\n",
            "341\n",
            "527\n",
            "165\n",
            "976\n",
            "822\n",
            "477\n",
            "632\n",
            "692\n",
            "709\n",
            "437\n",
            "794\n",
            "443\n",
            "801\n",
            "168\n",
            "612\n",
            "996\n",
            "565\n",
            "184\n",
            "116\n",
            "748\n",
            "886\n",
            "127\n",
            "644\n",
            "114\n",
            "700\n",
            "327\n",
            "9\n",
            "629\n",
            "242\n",
            "696\n",
            "471\n",
            "779\n",
            "730\n",
            "53\n",
            "666\n",
            "990\n",
            "305\n",
            "310\n",
            "725\n",
            "199\n",
            "335\n",
            "106\n",
            "985\n",
            "695\n",
            "702\n",
            "283\n",
            "884\n",
            "73\n",
            "516\n",
            "546\n",
            "314\n",
            "832\n",
            "508\n",
            "9\n",
            "584\n",
            "630\n",
            "364\n",
            "242\n",
            "757\n",
            "545\n",
            "340\n",
            "951\n",
            "191\n",
            "289\n",
            "489\n",
            "604\n",
            "538\n",
            "677\n",
            "709\n",
            "769\n",
            "894\n",
            "585\n",
            "716\n",
            "627\n",
            "919\n",
            "694\n",
            "404\n",
            "589\n",
            "784\n",
            "639\n",
            "227\n",
            "738\n",
            "166\n",
            "281\n",
            "774\n",
            "76\n",
            "799\n",
            "411\n",
            "501\n",
            "520\n",
            "290\n",
            "851\n",
            "758\n",
            "374\n",
            "522\n",
            "828\n",
            "920\n",
            "860\n",
            "525\n",
            "797\n",
            "319\n",
            "844\n",
            "706\n",
            "475\n",
            "119\n",
            "812\n",
            "13\n",
            "386\n",
            "29\n",
            "903\n",
            "641\n",
            "990\n",
            "308\n",
            "590\n",
            "932\n",
            "818\n",
            "115\n",
            "902\n",
            "186\n",
            "372\n",
            "383\n",
            "733\n",
            "743\n",
            "58\n",
            "277\n",
            "205\n",
            "860\n",
            "102\n",
            "805\n",
            "543\n",
            "911\n",
            "975\n",
            "370\n",
            "977\n",
            "119\n",
            "152\n",
            "252\n",
            "817\n",
            "377\n",
            "535\n",
            "354\n",
            "969\n",
            "658\n",
            "120\n",
            "976\n",
            "168\n",
            "326\n",
            "794\n",
            "556\n",
            "760\n",
            "879\n",
            "453\n",
            "480\n",
            "463\n",
            "642\n",
            "128\n",
            "515\n",
            "600\n",
            "120\n",
            "114\n",
            "644\n",
            "524\n",
            "869\n",
            "368\n",
            "983\n",
            "153\n",
            "206\n",
            "846\n",
            "305\n",
            "755\n",
            "214\n",
            "205\n",
            "851\n",
            "892\n",
            "574\n",
            "622\n",
            "408\n",
            "106\n",
            "637\n",
            "412\n",
            "558\n",
            "931\n",
            "9\n",
            "634\n",
            "587\n",
            "182\n",
            "27\n",
            "128\n",
            "865\n",
            "354\n",
            "597\n",
            "819\n",
            "524\n",
            "590\n",
            "787\n",
            "63\n",
            "212\n",
            "658\n",
            "945\n",
            "794\n",
            "998\n",
            "710\n",
            "594\n",
            "456\n",
            "956\n",
            "556\n",
            "551\n",
            "74\n",
            "793\n",
            "47\n",
            "286\n",
            "25\n",
            "716\n",
            "318\n",
            "366\n",
            "154\n",
            "450\n",
            "419\n",
            "851\n",
            "756\n",
            "340\n",
            "426\n",
            "768\n",
            "173\n",
            "460\n",
            "358\n",
            "725\n",
            "785\n",
            "313\n",
            "661\n",
            "672\n",
            "31\n",
            "426\n",
            "53\n",
            "72\n",
            "222\n",
            "986\n",
            "405\n",
            "315\n",
            "263\n",
            "517\n",
            "476\n",
            "115\n",
            "895\n",
            "362\n",
            "4\n",
            "139\n",
            "309\n",
            "392\n",
            "466\n",
            "598\n",
            "402\n",
            "713\n",
            "316\n",
            "600\n",
            "913\n",
            "653\n",
            "656\n",
            "989\n",
            "111\n",
            "961\n",
            "520\n",
            "873\n",
            "293\n",
            "956\n",
            "936\n",
            "358\n",
            "301\n",
            "700\n",
            "639\n",
            "134\n",
            "441\n",
            "571\n",
            "797\n",
            "703\n",
            "468\n",
            "540\n",
            "961\n",
            "313\n",
            "280\n",
            "335\n",
            "887\n",
            "711\n",
            "754\n",
            "531\n",
            "44\n",
            "175\n",
            "242\n",
            "578\n",
            "959\n",
            "856\n",
            "934\n",
            "697\n",
            "594\n",
            "121\n",
            "152\n",
            "985\n",
            "929\n",
            "185\n",
            "394\n",
            "840\n",
            "499\n",
            "943\n",
            "354\n",
            "258\n",
            "710\n",
            "628\n",
            "846\n",
            "327\n",
            "625\n",
            "43\n",
            "678\n",
            "81\n",
            "27\n",
            "552\n",
            "569\n",
            "653\n",
            "140\n",
            "674\n",
            "546\n",
            "221\n",
            "545\n",
            "951\n",
            "458\n",
            "781\n",
            "975\n",
            "398\n",
            "505\n",
            "584\n",
            "583\n",
            "723\n",
            "627\n",
            "810\n",
            "61\n",
            "623\n",
            "984\n",
            "511\n",
            "266\n",
            "200\n",
            "232\n",
            "995\n",
            "477\n",
            "154\n",
            "426\n",
            "965\n",
            "891\n",
            "237\n",
            "41\n",
            "632\n",
            "986\n",
            "148\n",
            "310\n",
            "162\n",
            "802\n",
            "15\n",
            "50\n",
            "780\n",
            "148\n",
            "795\n",
            "775\n",
            "478\n",
            "112\n",
            "826\n",
            "495\n",
            "552\n",
            "62\n",
            "168\n",
            "247\n",
            "51\n",
            "240\n",
            "383\n",
            "157\n",
            "229\n",
            "867\n",
            "585\n",
            "112\n",
            "161\n",
            "686\n",
            "725\n",
            "376\n",
            "963\n",
            "775\n",
            "880\n",
            "131\n",
            "947\n",
            "514\n",
            "964\n",
            "186\n",
            "759\n",
            "404\n",
            "608\n",
            "924\n",
            "638\n",
            "690\n",
            "332\n",
            "282\n",
            "888\n",
            "985\n",
            "581\n",
            "326\n",
            "936\n",
            "217\n",
            "188\n",
            "184\n",
            "679\n",
            "505\n",
            "324\n",
            "690\n",
            "440\n",
            "566\n",
            "862\n",
            "438\n",
            "108\n",
            "251\n",
            "360\n",
            "386\n",
            "364\n",
            "252\n",
            "137\n",
            "689\n",
            "685\n",
            "986\n",
            "265\n",
            "186\n",
            "25\n",
            "52\n",
            "559\n",
            "853\n",
            "164\n",
            "379\n",
            "334\n",
            "408\n",
            "849\n",
            "219\n",
            "70\n",
            "537\n",
            "192\n",
            "620\n",
            "83\n",
            "310\n",
            "449\n",
            "498\n",
            "944\n",
            "904\n",
            "517\n",
            "200\n",
            "603\n",
            "509\n",
            "61\n",
            "777\n",
            "Found!\n"
          ]
        }
      ]
    },
    {
      "cell_type": "code",
      "source": [
        "try:\n",
        "  numbers_file = open('/murat/number_history.txt', 'w') #dosyayı yazma modunda aç\n",
        "except:\n",
        "  print(\"Dosya oluşturulamadı.\")"
      ],
      "metadata": {
        "colab": {
          "base_uri": "https://localhost:8080/"
        },
        "id": "rXimIkPI5e5B",
        "outputId": "8e216d3b-935c-42b4-b4e2-219030ad01b4"
      },
      "execution_count": 81,
      "outputs": [
        {
          "output_type": "stream",
          "name": "stdout",
          "text": [
            "Dosya oluşturulamadı.\n"
          ]
        }
      ]
    },
    {
      "cell_type": "code",
      "source": [],
      "metadata": {
        "id": "M4L1PcPx7wcf"
      },
      "execution_count": null,
      "outputs": []
    }
  ]
}